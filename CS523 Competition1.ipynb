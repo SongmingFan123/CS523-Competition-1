{
 "cells": [
  {
   "cell_type": "code",
   "execution_count": 1,
   "id": "b52dcf72",
   "metadata": {},
   "outputs": [
    {
     "name": "stdout",
     "output_type": "stream",
     "text": [
      "Requirement already satisfied: ib_insync in c:\\users\\15596\\anaconda3\\lib\\site-packages (0.9.86)Note: you may need to restart the kernel to use updated packages.\n",
      "\n",
      "Requirement already satisfied: eventkit in c:\\users\\15596\\anaconda3\\lib\\site-packages (from ib_insync) (1.0.3)\n",
      "Requirement already satisfied: nest-asyncio in c:\\users\\15596\\anaconda3\\lib\\site-packages (from ib_insync) (1.5.5)\n",
      "Requirement already satisfied: numpy in c:\\users\\15596\\anaconda3\\lib\\site-packages (from eventkit->ib_insync) (1.26.4)\n"
     ]
    }
   ],
   "source": [
    "pip install ib_insync"
   ]
  },
  {
   "cell_type": "code",
   "execution_count": 5,
   "id": "e3d0e77e",
   "metadata": {
    "scrolled": true
   },
   "outputs": [
    {
     "name": "stdout",
     "output_type": "stream",
     "text": [
      "Connected to Interactive Brokers\n"
     ]
    }
   ],
   "source": [
    "from ib_insync import *\n",
    "\n",
    "# Utilize an instance of IB\n",
    "ib = IB()\n",
    "\n",
    "# Connect to the IB server using await in front of the connectAsync method\n",
    "try:\n",
    "    await ib.connectAsync('127.0.0.1', 7497, clientId=2)\n",
    "    print(\"Connected to Interactive Brokers\")\n",
    "except RuntimeError as e:\n",
    "    print(f\"Runtime Error: {e}\")\n",
    "except Exception as e:\n",
    "    print(f\"An error occurred: {e}\")\n",
    "# from ib_insync import *\n",
    "\n",
    "# ib = IB()\n",
    "# ib.connect('127.0.0.1', 7497, clientId=2)"
   ]
  },
  {
   "cell_type": "code",
   "execution_count": 6,
   "id": "c16b32cb",
   "metadata": {},
   "outputs": [],
   "source": [
    "contract = Future('ES', '202406', 'CME')"
   ]
  },
  {
   "cell_type": "code",
   "execution_count": 7,
   "id": "f8f5088c",
   "metadata": {},
   "outputs": [
    {
     "data": {
      "text/plain": [
       "[Future(conId=551601561, symbol='ES', lastTradeDateOrContractMonth='20240621', multiplier='50', exchange='CME', currency='USD', localSymbol='ESM4', tradingClass='ES')]"
      ]
     },
     "execution_count": 7,
     "metadata": {},
     "output_type": "execute_result"
    }
   ],
   "source": [
    "await ib.qualifyContractsAsync(contract)"
   ]
  },
  {
   "cell_type": "code",
   "execution_count": 8,
   "id": "41f7d38f",
   "metadata": {
    "scrolled": false
   },
   "outputs": [],
   "source": [
    "from ib_insync import *\n",
    "\n",
    "# Assume 'ib' is already connected and is an instance of ib_insync.IB()\n",
    "# Also assume 'contract' has been created and is a valid ib_insync.Contract object\n",
    "\n",
    "# Use the asynchronous version of the method with await\n",
    "try:\n",
    "    historical_data = await ib.reqHistoricalDataAsync(\n",
    "        contract, endDateTime='', durationStr='30 D',\n",
    "        barSizeSetting='1 hour', whatToShow='MIDPOINT', useRTH=True\n",
    "    )\n",
    "    \n",
    "    # Proceed with the historical data\n",
    "#     for bar in historical_data:\n",
    "#         print(bar)\n",
    "except Exception as e:\n",
    "    print(f\"An error occurred: {e}\")\n"
   ]
  },
  {
   "cell_type": "code",
   "execution_count": 9,
   "id": "38ef5a7d",
   "metadata": {},
   "outputs": [
    {
     "name": "stdout",
     "output_type": "stream",
     "text": [
      "                         date     open     high      low    close  volume  \\\n",
      "0   2024-03-18 09:30:00-04:00  5225.75  5233.75  5222.50  5223.75    -1.0   \n",
      "1   2024-03-18 10:00:00-04:00  5223.75  5240.25  5223.00  5237.00    -1.0   \n",
      "2   2024-03-18 11:00:00-04:00  5237.00  5237.75  5224.00  5227.50    -1.0   \n",
      "3   2024-03-18 12:00:00-04:00  5227.50  5230.50  5219.50  5220.25    -1.0   \n",
      "4   2024-03-18 13:00:00-04:00  5220.25  5227.50  5217.75  5223.00    -1.0   \n",
      "..                        ...      ...      ...      ...      ...     ...   \n",
      "235 2024-04-29 12:00:00-04:00  5143.75  5150.00  5142.00  5146.25    -1.0   \n",
      "236 2024-04-29 13:00:00-04:00  5146.25  5152.00  5142.50  5148.75    -1.0   \n",
      "237 2024-04-29 14:00:00-04:00  5148.75  5148.75  5132.25  5142.25    -1.0   \n",
      "238 2024-04-29 15:00:00-04:00  5142.25  5148.75  5118.50  5147.25    -1.0   \n",
      "239 2024-04-29 16:00:00-04:00  5147.25  5151.75  5146.50  5147.50    -1.0   \n",
      "\n",
      "     average  barCount  \n",
      "0       -1.0        -1  \n",
      "1       -1.0        -1  \n",
      "2       -1.0        -1  \n",
      "3       -1.0        -1  \n",
      "4       -1.0        -1  \n",
      "..       ...       ...  \n",
      "235     -1.0        -1  \n",
      "236     -1.0        -1  \n",
      "237     -1.0        -1  \n",
      "238     -1.0        -1  \n",
      "239     -1.0        -1  \n",
      "\n",
      "[240 rows x 8 columns]\n"
     ]
    }
   ],
   "source": [
    "import pytz\n",
    "import pandas as pd\n",
    "\n",
    "# Assuming 'historical_data' contains the historical data returned by reqHistoricalDataAsync\n",
    "\n",
    "# Convert timestamps to the desired time zone (e.g., 'US/Eastern')\n",
    "tz = pytz.timezone('US/Eastern')\n",
    "for bar in historical_data:\n",
    "    bar.date = bar.date.astimezone(tz)\n",
    "\n",
    "# Convert historical data to DataFrame\n",
    "df = pd.DataFrame([vars(bar) for bar in historical_data])\n",
    "\n",
    "# Print the DataFrame\n",
    "print(df)\n"
   ]
  },
  {
   "cell_type": "code",
   "execution_count": 10,
   "id": "a0d65e6e",
   "metadata": {},
   "outputs": [
    {
     "name": "stdout",
     "output_type": "stream",
     "text": [
      "                         date     open     high      low    close  volume  \\\n",
      "0   2024-03-18 09:30:00-04:00  5225.75  5233.75  5222.50  5223.75    -1.0   \n",
      "1   2024-03-18 10:00:00-04:00  5223.75  5240.25  5223.00  5237.00    -1.0   \n",
      "2   2024-03-18 11:00:00-04:00  5237.00  5237.75  5224.00  5227.50    -1.0   \n",
      "3   2024-03-18 12:00:00-04:00  5227.50  5230.50  5219.50  5220.25    -1.0   \n",
      "4   2024-03-18 13:00:00-04:00  5220.25  5227.50  5217.75  5223.00    -1.0   \n",
      "..                        ...      ...      ...      ...      ...     ...   \n",
      "235 2024-04-29 12:00:00-04:00  5143.75  5150.00  5142.00  5146.25    -1.0   \n",
      "236 2024-04-29 13:00:00-04:00  5146.25  5152.00  5142.50  5148.75    -1.0   \n",
      "237 2024-04-29 14:00:00-04:00  5148.75  5148.75  5132.25  5142.25    -1.0   \n",
      "238 2024-04-29 15:00:00-04:00  5142.25  5148.75  5118.50  5147.25    -1.0   \n",
      "239 2024-04-29 16:00:00-04:00  5147.25  5151.75  5146.50  5147.50    -1.0   \n",
      "\n",
      "     average  barCount  \n",
      "0       -1.0        -1  \n",
      "1       -1.0        -1  \n",
      "2       -1.0        -1  \n",
      "3       -1.0        -1  \n",
      "4       -1.0        -1  \n",
      "..       ...       ...  \n",
      "235     -1.0        -1  \n",
      "236     -1.0        -1  \n",
      "237     -1.0        -1  \n",
      "238     -1.0        -1  \n",
      "239     -1.0        -1  \n",
      "\n",
      "[240 rows x 8 columns]\n"
     ]
    }
   ],
   "source": [
    "df = util.df(historical_data)\n",
    "print(df)\n",
    "def preprocess_and_save_data(data, filename):\n",
    "    data.to_csv(filename, index=False)\n",
    "preprocess_and_save_data(df, 'ib_es500_price_history.csv')"
   ]
  },
  {
   "cell_type": "code",
   "execution_count": 15,
   "id": "8ec7d345",
   "metadata": {},
   "outputs": [
    {
     "name": "stdout",
     "output_type": "stream",
     "text": [
      "Requirement already satisfied: nest_asyncio in /Library/Frameworks/Python.framework/Versions/3.9/lib/python3.9/site-packages (1.5.6)\r\n"
     ]
    }
   ],
   "source": [
    "!pip install nest_asyncio"
   ]
  },
  {
   "cell_type": "code",
   "execution_count": 19,
   "id": "e9736f09",
   "metadata": {},
   "outputs": [
    {
     "name": "stderr",
     "output_type": "stream",
     "text": [
      "2024-04-29 18:14:10.172467: I tensorflow/core/common_runtime/executor.cc:1197] [/device:CPU:0] (DEBUG INFO) Executor start aborting (this does not indicate an error and you can ignore this message): INVALID_ARGUMENT: You must feed a value for placeholder tensor 'gradients/split_2_grad/concat/split_2/split_dim' with dtype int32\n",
      "\t [[{{node gradients/split_2_grad/concat/split_2/split_dim}}]]\n",
      "2024-04-29 18:14:10.174093: I tensorflow/core/common_runtime/executor.cc:1197] [/device:CPU:0] (DEBUG INFO) Executor start aborting (this does not indicate an error and you can ignore this message): INVALID_ARGUMENT: You must feed a value for placeholder tensor 'gradients/split_grad/concat/split/split_dim' with dtype int32\n",
      "\t [[{{node gradients/split_grad/concat/split/split_dim}}]]\n",
      "2024-04-29 18:14:10.175426: I tensorflow/core/common_runtime/executor.cc:1197] [/device:CPU:0] (DEBUG INFO) Executor start aborting (this does not indicate an error and you can ignore this message): INVALID_ARGUMENT: You must feed a value for placeholder tensor 'gradients/split_1_grad/concat/split_1/split_dim' with dtype int32\n",
      "\t [[{{node gradients/split_1_grad/concat/split_1/split_dim}}]]\n"
     ]
    },
    {
     "name": "stdout",
     "output_type": "stream",
     "text": [
      "Epoch 1/50\n"
     ]
    },
    {
     "name": "stderr",
     "output_type": "stream",
     "text": [
      "2024-04-29 18:14:10.406139: I tensorflow/core/common_runtime/executor.cc:1197] [/device:CPU:0] (DEBUG INFO) Executor start aborting (this does not indicate an error and you can ignore this message): INVALID_ARGUMENT: You must feed a value for placeholder tensor 'gradients/split_2_grad/concat/split_2/split_dim' with dtype int32\n",
      "\t [[{{node gradients/split_2_grad/concat/split_2/split_dim}}]]\n",
      "2024-04-29 18:14:10.407716: I tensorflow/core/common_runtime/executor.cc:1197] [/device:CPU:0] (DEBUG INFO) Executor start aborting (this does not indicate an error and you can ignore this message): INVALID_ARGUMENT: You must feed a value for placeholder tensor 'gradients/split_grad/concat/split/split_dim' with dtype int32\n",
      "\t [[{{node gradients/split_grad/concat/split/split_dim}}]]\n",
      "2024-04-29 18:14:10.408996: I tensorflow/core/common_runtime/executor.cc:1197] [/device:CPU:0] (DEBUG INFO) Executor start aborting (this does not indicate an error and you can ignore this message): INVALID_ARGUMENT: You must feed a value for placeholder tensor 'gradients/split_1_grad/concat/split_1/split_dim' with dtype int32\n",
      "\t [[{{node gradients/split_1_grad/concat/split_1/split_dim}}]]\n",
      "2024-04-29 18:14:10.702998: I tensorflow/core/common_runtime/executor.cc:1197] [/device:CPU:0] (DEBUG INFO) Executor start aborting (this does not indicate an error and you can ignore this message): INVALID_ARGUMENT: You must feed a value for placeholder tensor 'gradients/split_2_grad/concat/split_2/split_dim' with dtype int32\n",
      "\t [[{{node gradients/split_2_grad/concat/split_2/split_dim}}]]\n",
      "2024-04-29 18:14:10.705121: I tensorflow/core/common_runtime/executor.cc:1197] [/device:CPU:0] (DEBUG INFO) Executor start aborting (this does not indicate an error and you can ignore this message): INVALID_ARGUMENT: You must feed a value for placeholder tensor 'gradients/split_grad/concat/split/split_dim' with dtype int32\n",
      "\t [[{{node gradients/split_grad/concat/split/split_dim}}]]\n",
      "2024-04-29 18:14:10.706396: I tensorflow/core/common_runtime/executor.cc:1197] [/device:CPU:0] (DEBUG INFO) Executor start aborting (this does not indicate an error and you can ignore this message): INVALID_ARGUMENT: You must feed a value for placeholder tensor 'gradients/split_1_grad/concat/split_1/split_dim' with dtype int32\n",
      "\t [[{{node gradients/split_1_grad/concat/split_1/split_dim}}]]\n",
      "2024-04-29 18:14:10.893074: I tensorflow/core/common_runtime/executor.cc:1197] [/device:CPU:0] (DEBUG INFO) Executor start aborting (this does not indicate an error and you can ignore this message): INVALID_ARGUMENT: You must feed a value for placeholder tensor 'gradients/split_2_grad/concat/split_2/split_dim' with dtype int32\n",
      "\t [[{{node gradients/split_2_grad/concat/split_2/split_dim}}]]\n",
      "2024-04-29 18:14:10.894340: I tensorflow/core/common_runtime/executor.cc:1197] [/device:CPU:0] (DEBUG INFO) Executor start aborting (this does not indicate an error and you can ignore this message): INVALID_ARGUMENT: You must feed a value for placeholder tensor 'gradients/split_grad/concat/split/split_dim' with dtype int32\n",
      "\t [[{{node gradients/split_grad/concat/split/split_dim}}]]\n",
      "2024-04-29 18:14:10.895416: I tensorflow/core/common_runtime/executor.cc:1197] [/device:CPU:0] (DEBUG INFO) Executor start aborting (this does not indicate an error and you can ignore this message): INVALID_ARGUMENT: You must feed a value for placeholder tensor 'gradients/split_1_grad/concat/split_1/split_dim' with dtype int32\n",
      "\t [[{{node gradients/split_1_grad/concat/split_1/split_dim}}]]\n",
      "2024-04-29 18:14:11.806793: I tensorflow/core/common_runtime/executor.cc:1197] [/device:CPU:0] (DEBUG INFO) Executor start aborting (this does not indicate an error and you can ignore this message): INVALID_ARGUMENT: You must feed a value for placeholder tensor 'gradients/split_2_grad/concat/split_2/split_dim' with dtype int32\n",
      "\t [[{{node gradients/split_2_grad/concat/split_2/split_dim}}]]\n",
      "2024-04-29 18:14:11.807927: I tensorflow/core/common_runtime/executor.cc:1197] [/device:CPU:0] (DEBUG INFO) Executor start aborting (this does not indicate an error and you can ignore this message): INVALID_ARGUMENT: You must feed a value for placeholder tensor 'gradients/split_grad/concat/split/split_dim' with dtype int32\n",
      "\t [[{{node gradients/split_grad/concat/split/split_dim}}]]\n",
      "2024-04-29 18:14:11.809343: I tensorflow/core/common_runtime/executor.cc:1197] [/device:CPU:0] (DEBUG INFO) Executor start aborting (this does not indicate an error and you can ignore this message): INVALID_ARGUMENT: You must feed a value for placeholder tensor 'gradients/split_1_grad/concat/split_1/split_dim' with dtype int32\n",
      "\t [[{{node gradients/split_1_grad/concat/split_1/split_dim}}]]\n",
      "2024-04-29 18:14:12.006623: I tensorflow/core/common_runtime/executor.cc:1197] [/device:CPU:0] (DEBUG INFO) Executor start aborting (this does not indicate an error and you can ignore this message): INVALID_ARGUMENT: You must feed a value for placeholder tensor 'gradients/split_2_grad/concat/split_2/split_dim' with dtype int32\n",
      "\t [[{{node gradients/split_2_grad/concat/split_2/split_dim}}]]\n",
      "2024-04-29 18:14:12.007970: I tensorflow/core/common_runtime/executor.cc:1197] [/device:CPU:0] (DEBUG INFO) Executor start aborting (this does not indicate an error and you can ignore this message): INVALID_ARGUMENT: You must feed a value for placeholder tensor 'gradients/split_grad/concat/split/split_dim' with dtype int32\n",
      "\t [[{{node gradients/split_grad/concat/split/split_dim}}]]\n",
      "2024-04-29 18:14:12.009572: I tensorflow/core/common_runtime/executor.cc:1197] [/device:CPU:0] (DEBUG INFO) Executor start aborting (this does not indicate an error and you can ignore this message): INVALID_ARGUMENT: You must feed a value for placeholder tensor 'gradients/split_1_grad/concat/split_1/split_dim' with dtype int32\n",
      "\t [[{{node gradients/split_1_grad/concat/split_1/split_dim}}]]\n"
     ]
    },
    {
     "name": "stdout",
     "output_type": "stream",
     "text": [
      "3/5 [=================>............] - ETA: 0s - loss: 0.1896 "
     ]
    },
    {
     "name": "stderr",
     "output_type": "stream",
     "text": [
      "2024-04-29 18:14:13.777384: I tensorflow/core/common_runtime/executor.cc:1197] [/device:CPU:0] (DEBUG INFO) Executor start aborting (this does not indicate an error and you can ignore this message): INVALID_ARGUMENT: You must feed a value for placeholder tensor 'gradients/split_2_grad/concat/split_2/split_dim' with dtype int32\n",
      "\t [[{{node gradients/split_2_grad/concat/split_2/split_dim}}]]\n",
      "2024-04-29 18:14:13.778608: I tensorflow/core/common_runtime/executor.cc:1197] [/device:CPU:0] (DEBUG INFO) Executor start aborting (this does not indicate an error and you can ignore this message): INVALID_ARGUMENT: You must feed a value for placeholder tensor 'gradients/split_grad/concat/split/split_dim' with dtype int32\n",
      "\t [[{{node gradients/split_grad/concat/split/split_dim}}]]\n",
      "2024-04-29 18:14:13.779776: I tensorflow/core/common_runtime/executor.cc:1197] [/device:CPU:0] (DEBUG INFO) Executor start aborting (this does not indicate an error and you can ignore this message): INVALID_ARGUMENT: You must feed a value for placeholder tensor 'gradients/split_1_grad/concat/split_1/split_dim' with dtype int32\n",
      "\t [[{{node gradients/split_1_grad/concat/split_1/split_dim}}]]\n",
      "2024-04-29 18:14:13.955186: I tensorflow/core/common_runtime/executor.cc:1197] [/device:CPU:0] (DEBUG INFO) Executor start aborting (this does not indicate an error and you can ignore this message): INVALID_ARGUMENT: You must feed a value for placeholder tensor 'gradients/split_2_grad/concat/split_2/split_dim' with dtype int32\n",
      "\t [[{{node gradients/split_2_grad/concat/split_2/split_dim}}]]\n",
      "2024-04-29 18:14:13.956235: I tensorflow/core/common_runtime/executor.cc:1197] [/device:CPU:0] (DEBUG INFO) Executor start aborting (this does not indicate an error and you can ignore this message): INVALID_ARGUMENT: You must feed a value for placeholder tensor 'gradients/split_grad/concat/split/split_dim' with dtype int32\n",
      "\t [[{{node gradients/split_grad/concat/split/split_dim}}]]\n",
      "2024-04-29 18:14:13.957288: I tensorflow/core/common_runtime/executor.cc:1197] [/device:CPU:0] (DEBUG INFO) Executor start aborting (this does not indicate an error and you can ignore this message): INVALID_ARGUMENT: You must feed a value for placeholder tensor 'gradients/split_1_grad/concat/split_1/split_dim' with dtype int32\n",
      "\t [[{{node gradients/split_1_grad/concat/split_1/split_dim}}]]\n"
     ]
    },
    {
     "name": "stdout",
     "output_type": "stream",
     "text": [
      "5/5 [==============================] - 4s 179ms/step - loss: 0.1369 - val_loss: 0.0485\n",
      "Epoch 2/50\n",
      "5/5 [==============================] - 0s 31ms/step - loss: 0.0568 - val_loss: 0.0125\n",
      "Epoch 3/50\n",
      "5/5 [==============================] - 0s 33ms/step - loss: 0.0270 - val_loss: 0.0326\n",
      "Epoch 4/50\n",
      "5/5 [==============================] - 0s 32ms/step - loss: 0.0308 - val_loss: 0.0129\n",
      "Epoch 5/50\n",
      "5/5 [==============================] - 0s 31ms/step - loss: 0.0212 - val_loss: 0.0186\n",
      "Epoch 6/50\n",
      "5/5 [==============================] - 0s 32ms/step - loss: 0.0249 - val_loss: 0.0112\n",
      "Epoch 7/50\n",
      "5/5 [==============================] - 0s 32ms/step - loss: 0.0185 - val_loss: 0.0140\n",
      "Epoch 8/50\n",
      "5/5 [==============================] - 0s 33ms/step - loss: 0.0205 - val_loss: 0.0107\n",
      "Epoch 9/50\n",
      "5/5 [==============================] - 0s 33ms/step - loss: 0.0146 - val_loss: 0.0114\n",
      "Epoch 10/50\n",
      "5/5 [==============================] - 0s 32ms/step - loss: 0.0173 - val_loss: 0.0098\n",
      "Epoch 11/50\n",
      "5/5 [==============================] - 0s 37ms/step - loss: 0.0159 - val_loss: 0.0109\n",
      "Epoch 12/50\n",
      "5/5 [==============================] - 0s 33ms/step - loss: 0.0157 - val_loss: 0.0096\n",
      "Epoch 13/50\n",
      "5/5 [==============================] - 0s 33ms/step - loss: 0.0144 - val_loss: 0.0099\n",
      "Epoch 14/50\n",
      "5/5 [==============================] - 0s 34ms/step - loss: 0.0146 - val_loss: 0.0103\n",
      "Epoch 15/50\n",
      "5/5 [==============================] - 0s 35ms/step - loss: 0.0159 - val_loss: 0.0092\n",
      "Epoch 16/50\n",
      "5/5 [==============================] - 0s 33ms/step - loss: 0.0144 - val_loss: 0.0100\n",
      "Epoch 17/50\n",
      "5/5 [==============================] - 0s 34ms/step - loss: 0.0149 - val_loss: 0.0094\n",
      "Epoch 18/50\n",
      "5/5 [==============================] - 0s 33ms/step - loss: 0.0127 - val_loss: 0.0090\n",
      "Epoch 19/50\n",
      "5/5 [==============================] - 0s 35ms/step - loss: 0.0129 - val_loss: 0.0090\n",
      "Epoch 20/50\n",
      "5/5 [==============================] - 0s 39ms/step - loss: 0.0146 - val_loss: 0.0091\n",
      "Epoch 21/50\n",
      "5/5 [==============================] - 0s 34ms/step - loss: 0.0133 - val_loss: 0.0087\n",
      "Epoch 22/50\n",
      "5/5 [==============================] - 0s 34ms/step - loss: 0.0140 - val_loss: 0.0090\n",
      "Epoch 23/50\n",
      "5/5 [==============================] - 0s 32ms/step - loss: 0.0116 - val_loss: 0.0087\n",
      "Epoch 24/50\n",
      "5/5 [==============================] - 0s 32ms/step - loss: 0.0128 - val_loss: 0.0090\n",
      "Epoch 25/50\n",
      "5/5 [==============================] - 0s 32ms/step - loss: 0.0127 - val_loss: 0.0084\n",
      "Epoch 26/50\n",
      "5/5 [==============================] - 0s 32ms/step - loss: 0.0122 - val_loss: 0.0082\n",
      "Epoch 27/50\n",
      "5/5 [==============================] - 0s 32ms/step - loss: 0.0107 - val_loss: 0.0083\n",
      "Epoch 28/50\n",
      "5/5 [==============================] - 0s 32ms/step - loss: 0.0125 - val_loss: 0.0081\n",
      "Epoch 29/50\n",
      "5/5 [==============================] - 0s 32ms/step - loss: 0.0116 - val_loss: 0.0085\n",
      "Epoch 30/50\n",
      "5/5 [==============================] - 0s 32ms/step - loss: 0.0099 - val_loss: 0.0080\n",
      "Epoch 31/50\n",
      "5/5 [==============================] - 0s 32ms/step - loss: 0.0105 - val_loss: 0.0080\n",
      "Epoch 32/50\n",
      "5/5 [==============================] - 0s 32ms/step - loss: 0.0107 - val_loss: 0.0080\n",
      "Epoch 33/50\n",
      "5/5 [==============================] - 0s 33ms/step - loss: 0.0115 - val_loss: 0.0080\n",
      "Epoch 34/50\n",
      "5/5 [==============================] - 0s 32ms/step - loss: 0.0126 - val_loss: 0.0098\n",
      "Epoch 35/50\n",
      "5/5 [==============================] - 0s 33ms/step - loss: 0.0113 - val_loss: 0.0126\n",
      "Epoch 36/50\n",
      "5/5 [==============================] - 0s 33ms/step - loss: 0.0136 - val_loss: 0.0082\n",
      "Epoch 37/50\n",
      "5/5 [==============================] - 0s 33ms/step - loss: 0.0118 - val_loss: 0.0080\n",
      "Epoch 38/50\n",
      "5/5 [==============================] - 0s 32ms/step - loss: 0.0097 - val_loss: 0.0090\n",
      "Epoch 39/50\n",
      "5/5 [==============================] - 0s 33ms/step - loss: 0.0109 - val_loss: 0.0075\n",
      "Epoch 40/50\n",
      "5/5 [==============================] - 0s 35ms/step - loss: 0.0111 - val_loss: 0.0080\n",
      "Epoch 41/50\n",
      "5/5 [==============================] - 0s 32ms/step - loss: 0.0099 - val_loss: 0.0084\n",
      "Epoch 42/50\n",
      "5/5 [==============================] - 0s 33ms/step - loss: 0.0104 - val_loss: 0.0077\n",
      "Epoch 43/50\n",
      "5/5 [==============================] - 0s 32ms/step - loss: 0.0099 - val_loss: 0.0073\n",
      "Epoch 44/50\n",
      "5/5 [==============================] - 0s 34ms/step - loss: 0.0107 - val_loss: 0.0074\n",
      "Epoch 45/50\n",
      "5/5 [==============================] - 0s 32ms/step - loss: 0.0097 - val_loss: 0.0073\n",
      "Epoch 46/50\n",
      "5/5 [==============================] - 0s 32ms/step - loss: 0.0086 - val_loss: 0.0072\n",
      "Epoch 47/50\n",
      "5/5 [==============================] - 0s 33ms/step - loss: 0.0107 - val_loss: 0.0071\n",
      "Epoch 48/50\n",
      "5/5 [==============================] - 0s 32ms/step - loss: 0.0108 - val_loss: 0.0072\n",
      "Epoch 49/50\n",
      "5/5 [==============================] - 0s 33ms/step - loss: 0.0098 - val_loss: 0.0086\n",
      "Epoch 50/50\n",
      "5/5 [==============================] - 0s 32ms/step - loss: 0.0111 - val_loss: 0.0073\n"
     ]
    },
    {
     "name": "stderr",
     "output_type": "stream",
     "text": [
      "Error 354, reqId 14: Requested market data is not subscribed.Delayed market data is available.ES JUN'24/TOP/ALL, contract: Future(symbol='ES', lastTradeDateOrContractMonth='202406', exchange='CME')\n",
      "2024-04-29 18:14:27.218113: I tensorflow/core/common_runtime/executor.cc:1197] [/device:CPU:0] (DEBUG INFO) Executor start aborting (this does not indicate an error and you can ignore this message): INVALID_ARGUMENT: You must feed a value for placeholder tensor 'gradients/split_2_grad/concat/split_2/split_dim' with dtype int32\n",
      "\t [[{{node gradients/split_2_grad/concat/split_2/split_dim}}]]\n",
      "2024-04-29 18:14:27.220160: I tensorflow/core/common_runtime/executor.cc:1197] [/device:CPU:0] (DEBUG INFO) Executor start aborting (this does not indicate an error and you can ignore this message): INVALID_ARGUMENT: You must feed a value for placeholder tensor 'gradients/split_grad/concat/split/split_dim' with dtype int32\n",
      "\t [[{{node gradients/split_grad/concat/split/split_dim}}]]\n",
      "2024-04-29 18:14:27.221647: I tensorflow/core/common_runtime/executor.cc:1197] [/device:CPU:0] (DEBUG INFO) Executor start aborting (this does not indicate an error and you can ignore this message): INVALID_ARGUMENT: You must feed a value for placeholder tensor 'gradients/split_1_grad/concat/split_1/split_dim' with dtype int32\n",
      "\t [[{{node gradients/split_1_grad/concat/split_1/split_dim}}]]\n",
      "2024-04-29 18:14:27.460924: I tensorflow/core/common_runtime/executor.cc:1197] [/device:CPU:0] (DEBUG INFO) Executor start aborting (this does not indicate an error and you can ignore this message): INVALID_ARGUMENT: You must feed a value for placeholder tensor 'gradients/split_2_grad/concat/split_2/split_dim' with dtype int32\n",
      "\t [[{{node gradients/split_2_grad/concat/split_2/split_dim}}]]\n",
      "2024-04-29 18:14:27.462725: I tensorflow/core/common_runtime/executor.cc:1197] [/device:CPU:0] (DEBUG INFO) Executor start aborting (this does not indicate an error and you can ignore this message): INVALID_ARGUMENT: You must feed a value for placeholder tensor 'gradients/split_grad/concat/split/split_dim' with dtype int32\n",
      "\t [[{{node gradients/split_grad/concat/split/split_dim}}]]\n",
      "2024-04-29 18:14:27.464181: I tensorflow/core/common_runtime/executor.cc:1197] [/device:CPU:0] (DEBUG INFO) Executor start aborting (this does not indicate an error and you can ignore this message): INVALID_ARGUMENT: You must feed a value for placeholder tensor 'gradients/split_1_grad/concat/split_1/split_dim' with dtype int32\n",
      "\t [[{{node gradients/split_1_grad/concat/split_1/split_dim}}]]\n"
     ]
    },
    {
     "name": "stdout",
     "output_type": "stream",
     "text": [
      "1/1 [==============================] - 1s 627ms/step\n",
      "5135.1751851663 nan\n",
      "Decision: HOLD, Shares: 0, Predicted Price: 5135.1751851663\n",
      "Decision is to HOLD, no action taken.\n",
      "Order HOLD for 0 shares has been filled.\n"
     ]
    }
   ],
   "source": [
    "import nest_asyncio\n",
    "import numpy as np\n",
    "import pandas as pd\n",
    "from sklearn.preprocessing import MinMaxScaler\n",
    "from sklearn.model_selection import train_test_split\n",
    "from tensorflow.keras.models import Sequential\n",
    "from tensorflow.keras.layers import LSTM, Dense, Dropout\n",
    "nest_asyncio.apply()\n",
    "# Load and preprocess data\n",
    "def load_and_preprocess_data(filepath):\n",
    "    data = pd.read_csv(filepath)\n",
    "    # Adding more features: high, low, and volume\n",
    "    features = data[['close', 'high', 'low', 'volume']].values\n",
    "    scaler = MinMaxScaler(feature_range=(0, 1))\n",
    "    scaled_features = scaler.fit_transform(features)\n",
    "    return scaled_features, scaler\n",
    "\n",
    "# Create sequences for LSTM training\n",
    "def create_sequences(data, sequence_length=60):\n",
    "    xs, ys = [], []\n",
    "    for i in range(len(data) - sequence_length):\n",
    "        x = data[i:(i + sequence_length)]\n",
    "        y = data[i + sequence_length, 0]  # Predicting the next close price\n",
    "        xs.append(x)\n",
    "        ys.append(y)\n",
    "    return np.array(xs), np.array(ys)\n",
    "\n",
    "# Define LSTM model structure\n",
    "def build_model(input_shape):\n",
    "    model = Sequential([\n",
    "        LSTM(50, return_sequences=True, input_shape=input_shape),\n",
    "        Dropout(0.2),\n",
    "        LSTM(50),\n",
    "        Dropout(0.2),\n",
    "        Dense(25),\n",
    "        Dense(1)\n",
    "    ])\n",
    "    model.compile(optimizer='adam', loss='mean_squared_error')\n",
    "    return model\n",
    "\n",
    "# Adjust the prediction function to handle new features\n",
    "def predict_and_decide(model, scaler, recent_data, current_price, available_funds, current_shares, total_cost, transaction_fee=10.0):\n",
    "#     if recent_data.shape[0] != 60:\n",
    "#         raise ValueError(\"recent_data should contain exactly 60 timesteps\")\n",
    "    \n",
    "#     # Scale the recent_data if it's not already scaled\n",
    "#     scaled_recent_data = scaler.transform(recent_data)\n",
    "#     scaled_recent_data = scaled_recent_data.reshape(1, 60, -1)  # Reshape for LSTM input\n",
    "#     prediction = model.predict(scaled_recent_data)\n",
    "#     predicted_price = scaler.inverse_transform(prediction)[0][0]\n",
    "    # Assuming recent_data is in the correct shape and already scaled appropriately\n",
    "    scaled_recent_data = recent_data.reshape(1, 60, -1)  # Reshape for LSTM input\n",
    "    \n",
    "    prediction_scaled = model.predict(scaled_recent_data)\n",
    "    \n",
    "    # Since we're only interested in the 'close' price (first feature), we need to prepare a dummy array for inverse transform\n",
    "    dummy_features = np.zeros((1, 4))  # Assume 4 features as per your scaler fitting\n",
    "    dummy_features[0, 0] = prediction_scaled[0][0]  # Place the predicted price in the 'close' position\n",
    "    \n",
    "    predicted_price = scaler.inverse_transform(dummy_features)[0, 0]  # Inverse transform and extract the 'close' price\n",
    "    print(predicted_price, current_price)\n",
    "    # Decision making with transaction fees considered\n",
    "    decision = \"HOLD\"\n",
    "    shares = 0\n",
    "    if predicted_price > current_price:\n",
    "        if available_funds > transaction_fee:\n",
    "            max_affordable_shares = int((available_funds - transaction_fee) / current_price)\n",
    "            decision = \"BUY\"\n",
    "            shares = max_affordable_shares  # Example: Buy as much as possible within budget\n",
    "    elif predicted_price < current_price:\n",
    "        decision = \"SELL\"\n",
    "        shares = int(current_shares * 0.1)  # Example: Sell 10% of holdings\n",
    "    \n",
    "    return decision, shares, predicted_price\n",
    "\n",
    "# Example usage of the functions\n",
    "if __name__ == \"__main__\":\n",
    "    filepath = 'ib_es500_price_history.csv'\n",
    "    scaled_features, scaler = load_and_preprocess_data(filepath)\n",
    "    X, y = create_sequences(scaled_features)\n",
    "    X_train, X_test, y_train, y_test = train_test_split(X, y, test_size=0.2, random_state=42)\n",
    "    \n",
    "    model = build_model((X_train.shape[1], X_train.shape[2]))\n",
    "    model.fit(X_train, y_train, epochs=50, batch_size=32, validation_data=(X_test, y_test))  # Reduced epochs, added explicit test data for validation\n",
    "    \n",
    "#     current_shares = 0 #\n",
    "    # Simulating a scenario for prediction and decision making\n",
    "    positions = ib.positions()\n",
    "    for pos in positions:\n",
    "        if pos.contract.symbol == 'ES' and pos.contract.secType == 'FUT':\n",
    "            current_shares = pos.position\n",
    "    account_summary = await ib.accountSummaryAsync()\n",
    "    # Find the total cash balance\n",
    "    balance = next((item for item in account_summary if item.tag == 'TotalCashBalance'), None)\n",
    "    \n",
    "    contract = Future('ES', '202406', 'CME')\n",
    "    market_data = ib.reqMktData(contract, '', False, False)\n",
    "    util.sleep(5)\n",
    "    current_price = (market_data.bid + market_data.ask) / 2\n",
    "    \n",
    "    \n",
    "    available_funds = balance.value\n",
    "    total_cost = current_shares * current_price  # Simulated total cost of current shares\n",
    "    \n",
    "    # Prepare recent data for prediction\n",
    "    recent_data = scaled_features[-60:]  # Make sure this is exactly 60 timesteps\n",
    "    decision, shares, predicted_price = predict_and_decide(model, scaler, recent_data, current_price, available_funds, current_shares, total_cost)\n",
    "    print(f\"Decision: {decision}, Shares: {shares}, Predicted Price: {predicted_price}\")\n",
    "    \n",
    "    # Execute the decision\n",
    "    if decision == \"BUY\":\n",
    "        order = MarketOrder('BUY', shares)\n",
    "        trade = ib.placeOrder(contract, order)\n",
    "    elif decision == \"SELL\":\n",
    "        order = MarketOrder('SELL', shares)\n",
    "        trade = ib.placeOrder(contract, order)\n",
    "    elif decision == \"HOLD\":\n",
    "        print(\"Decision is to HOLD, no action taken.\")\n",
    "\n",
    "    # Monitor the order until it is filled\n",
    "    ib.sleep(1)  # Sleeping to give time for the order to be executed\n",
    "\n",
    "\n",
    "    print(f\"Order {decision} for {shares} shares has been filled.\")\n"
   ]
  }
 ],
 "metadata": {
  "kernelspec": {
   "display_name": "Python 3 (ipykernel)",
   "language": "python",
   "name": "python3"
  },
  "language_info": {
   "codemirror_mode": {
    "name": "ipython",
    "version": 3
   },
   "file_extension": ".py",
   "mimetype": "text/x-python",
   "name": "python",
   "nbconvert_exporter": "python",
   "pygments_lexer": "ipython3",
   "version": "3.9.6"
  }
 },
 "nbformat": 4,
 "nbformat_minor": 5
}
