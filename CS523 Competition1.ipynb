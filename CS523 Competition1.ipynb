{
 "cells": [
  {
   "cell_type": "code",
   "execution_count": 2,
   "id": "b52dcf72",
   "metadata": {},
   "outputs": [
    {
     "name": "stdout",
     "output_type": "stream",
     "text": [
      "Requirement already satisfied: ib_insync in /Library/Frameworks/Python.framework/Versions/3.9/lib/python3.9/site-packages (0.9.86)\n",
      "Requirement already satisfied: eventkit in /Library/Frameworks/Python.framework/Versions/3.9/lib/python3.9/site-packages (from ib_insync) (1.0.3)\n",
      "Requirement already satisfied: nest-asyncio in /Library/Frameworks/Python.framework/Versions/3.9/lib/python3.9/site-packages (from ib_insync) (1.5.6)\n",
      "Requirement already satisfied: numpy in /Library/Frameworks/Python.framework/Versions/3.9/lib/python3.9/site-packages (from eventkit->ib_insync) (1.22.2)\n",
      "\n",
      "\u001b[1m[\u001b[0m\u001b[34;49mnotice\u001b[0m\u001b[1;39;49m]\u001b[0m\u001b[39;49m A new release of pip is available: \u001b[0m\u001b[31;49m23.2.1\u001b[0m\u001b[39;49m -> \u001b[0m\u001b[32;49m24.0\u001b[0m\n",
      "\u001b[1m[\u001b[0m\u001b[34;49mnotice\u001b[0m\u001b[1;39;49m]\u001b[0m\u001b[39;49m To update, run: \u001b[0m\u001b[32;49mpip install --upgrade pip\u001b[0m\n",
      "Note: you may need to restart the kernel to use updated packages.\n"
     ]
    }
   ],
   "source": [
    "pip install ib_insync"
   ]
  },
  {
   "cell_type": "code",
   "execution_count": 62,
   "id": "e3d0e77e",
   "metadata": {
    "scrolled": true
   },
   "outputs": [
    {
     "name": "stdout",
     "output_type": "stream",
     "text": [
      "Connected to Interactive Brokers\n"
     ]
    }
   ],
   "source": [
    "from ib_insync import *\n",
    "\n",
    "# Utilize an instance of IB\n",
    "ib = IB()\n",
    "\n",
    "# Connect to the IB server using await in front of the connectAsync method\n",
    "try:\n",
    "    await ib.connectAsync('127.0.0.1', 7497, clientId=1)\n",
    "    print(\"Connected to Interactive Brokers\")\n",
    "except RuntimeError as e:\n",
    "    print(f\"Runtime Error: {e}\")\n",
    "except Exception as e:\n",
    "    print(f\"An error occurred: {e}\")\n",
    "# from ib_insync import *\n",
    "\n",
    "# ib = IB()\n",
    "# ib.connect('127.0.0.1', 7497, clientId=2)"
   ]
  },
  {
   "cell_type": "code",
   "execution_count": 63,
   "id": "c16b32cb",
   "metadata": {},
   "outputs": [],
   "source": [
    "contract = Future('ES', '202403', 'CME')"
   ]
  },
  {
   "cell_type": "code",
   "execution_count": 64,
   "id": "f8f5088c",
   "metadata": {},
   "outputs": [
    {
     "data": {
      "text/plain": [
       "[Future(conId=533620665, symbol='ES', lastTradeDateOrContractMonth='20240315', multiplier='50', exchange='CME', currency='USD', localSymbol='ESH4', tradingClass='ES')]"
      ]
     },
     "execution_count": 64,
     "metadata": {},
     "output_type": "execute_result"
    }
   ],
   "source": [
    "await ib.qualifyContractsAsync(contract)"
   ]
  },
  {
   "cell_type": "code",
   "execution_count": 65,
   "id": "d12b14ea",
   "metadata": {},
   "outputs": [
    {
     "name": "stdout",
     "output_type": "stream",
     "text": [
      "None\n"
     ]
    }
   ],
   "source": [
    "print(ib.reqMarketDataType(3))"
   ]
  },
  {
   "cell_type": "code",
   "execution_count": 66,
   "id": "41f7d38f",
   "metadata": {},
   "outputs": [
    {
     "name": "stdout",
     "output_type": "stream",
     "text": [
      "BarData(date=datetime.datetime(2024, 1, 26, 8, 30, tzinfo=zoneinfo.ZoneInfo(key='US/Central')), open=4918.5, high=4925.5, low=4914.75, close=4919.5, volume=-1.0, average=-1.0, barCount=-1)\n",
      "BarData(date=datetime.datetime(2024, 1, 26, 9, 0, tzinfo=zoneinfo.ZoneInfo(key='US/Central')), open=4919.5, high=4933.5, low=4912.75, close=4933.25, volume=-1.0, average=-1.0, barCount=-1)\n",
      "BarData(date=datetime.datetime(2024, 1, 26, 10, 0, tzinfo=zoneinfo.ZoneInfo(key='US/Central')), open=4933.25, high=4934.25, low=4923.5, close=4930.25, volume=-1.0, average=-1.0, barCount=-1)\n",
      "BarData(date=datetime.datetime(2024, 1, 26, 11, 0, tzinfo=zoneinfo.ZoneInfo(key='US/Central')), open=4930.25, high=4931.5, low=4909.0, close=4912.5, volume=-1.0, average=-1.0, barCount=-1)\n",
      "BarData(date=datetime.datetime(2024, 1, 26, 12, 0, tzinfo=zoneinfo.ZoneInfo(key='US/Central')), open=4912.5, high=4917.5, low=4907.5, close=4912.0, volume=-1.0, average=-1.0, barCount=-1)\n",
      "BarData(date=datetime.datetime(2024, 1, 26, 13, 0, tzinfo=zoneinfo.ZoneInfo(key='US/Central')), open=4912.0, high=4923.75, low=4911.5, close=4922.25, volume=-1.0, average=-1.0, barCount=-1)\n",
      "BarData(date=datetime.datetime(2024, 1, 26, 14, 0, tzinfo=zoneinfo.ZoneInfo(key='US/Central')), open=4922.25, high=4923.0, low=4912.5, close=4917.0, volume=-1.0, average=-1.0, barCount=-1)\n",
      "BarData(date=datetime.datetime(2024, 1, 26, 15, 0, tzinfo=zoneinfo.ZoneInfo(key='US/Central')), open=4917.0, high=4917.5, low=4912.75, close=4913.0, volume=-1.0, average=-1.0, barCount=-1)\n",
      "BarData(date=datetime.datetime(2024, 1, 29, 8, 30, tzinfo=zoneinfo.ZoneInfo(key='US/Central')), open=4919.0, high=4923.25, low=4915.75, close=4921.75, volume=-1.0, average=-1.0, barCount=-1)\n",
      "BarData(date=datetime.datetime(2024, 1, 29, 9, 0, tzinfo=zoneinfo.ZoneInfo(key='US/Central')), open=4921.75, high=4924.25, low=4912.75, close=4914.5, volume=-1.0, average=-1.0, barCount=-1)\n",
      "BarData(date=datetime.datetime(2024, 1, 29, 10, 0, tzinfo=zoneinfo.ZoneInfo(key='US/Central')), open=4914.5, high=4923.25, low=4912.75, close=4922.75, volume=-1.0, average=-1.0, barCount=-1)\n",
      "BarData(date=datetime.datetime(2024, 1, 29, 11, 0, tzinfo=zoneinfo.ZoneInfo(key='US/Central')), open=4922.75, high=4927.5, low=4919.75, close=4923.25, volume=-1.0, average=-1.0, barCount=-1)\n",
      "BarData(date=datetime.datetime(2024, 1, 29, 12, 0, tzinfo=zoneinfo.ZoneInfo(key='US/Central')), open=4923.25, high=4926.75, low=4919.5, close=4923.75, volume=-1.0, average=-1.0, barCount=-1)\n",
      "BarData(date=datetime.datetime(2024, 1, 29, 13, 0, tzinfo=zoneinfo.ZoneInfo(key='US/Central')), open=4923.75, high=4932.75, low=4922.25, close=4930.5, volume=-1.0, average=-1.0, barCount=-1)\n",
      "BarData(date=datetime.datetime(2024, 1, 29, 14, 0, tzinfo=zoneinfo.ZoneInfo(key='US/Central')), open=4930.5, high=4956.25, low=4930.25, close=4954.75, volume=-1.0, average=-1.0, barCount=-1)\n",
      "BarData(date=datetime.datetime(2024, 1, 29, 15, 0, tzinfo=zoneinfo.ZoneInfo(key='US/Central')), open=4954.75, high=4955.5, low=4948.5, close=4950.25, volume=-1.0, average=-1.0, barCount=-1)\n",
      "BarData(date=datetime.datetime(2024, 1, 30, 8, 30, tzinfo=zoneinfo.ZoneInfo(key='US/Central')), open=4946.25, high=4953.75, low=4946.0, close=4953.5, volume=-1.0, average=-1.0, barCount=-1)\n",
      "BarData(date=datetime.datetime(2024, 1, 30, 9, 0, tzinfo=zoneinfo.ZoneInfo(key='US/Central')), open=4953.5, high=4954.0, low=4944.0, close=4947.25, volume=-1.0, average=-1.0, barCount=-1)\n",
      "BarData(date=datetime.datetime(2024, 1, 30, 10, 0, tzinfo=zoneinfo.ZoneInfo(key='US/Central')), open=4947.25, high=4955.75, low=4945.25, close=4954.25, volume=-1.0, average=-1.0, barCount=-1)\n",
      "BarData(date=datetime.datetime(2024, 1, 30, 11, 0, tzinfo=zoneinfo.ZoneInfo(key='US/Central')), open=4954.25, high=4955.75, low=4941.5, close=4944.75, volume=-1.0, average=-1.0, barCount=-1)\n",
      "BarData(date=datetime.datetime(2024, 1, 30, 12, 0, tzinfo=zoneinfo.ZoneInfo(key='US/Central')), open=4944.75, high=4951.25, low=4942.0, close=4948.25, volume=-1.0, average=-1.0, barCount=-1)\n",
      "BarData(date=datetime.datetime(2024, 1, 30, 13, 0, tzinfo=zoneinfo.ZoneInfo(key='US/Central')), open=4948.25, high=4955.75, low=4945.25, close=4954.75, volume=-1.0, average=-1.0, barCount=-1)\n",
      "BarData(date=datetime.datetime(2024, 1, 30, 14, 0, tzinfo=zoneinfo.ZoneInfo(key='US/Central')), open=4954.75, high=4957.25, low=4948.0, close=4949.5, volume=-1.0, average=-1.0, barCount=-1)\n",
      "BarData(date=datetime.datetime(2024, 1, 30, 15, 0, tzinfo=zoneinfo.ZoneInfo(key='US/Central')), open=4949.5, high=4952.25, low=4933.0, close=4933.75, volume=-1.0, average=-1.0, barCount=-1)\n",
      "BarData(date=datetime.datetime(2024, 1, 31, 8, 30, tzinfo=zoneinfo.ZoneInfo(key='US/Central')), open=4926.0, high=4930.5, low=4914.5, close=4917.0, volume=-1.0, average=-1.0, barCount=-1)\n",
      "BarData(date=datetime.datetime(2024, 1, 31, 9, 0, tzinfo=zoneinfo.ZoneInfo(key='US/Central')), open=4917.0, high=4917.75, low=4903.25, close=4907.0, volume=-1.0, average=-1.0, barCount=-1)\n",
      "BarData(date=datetime.datetime(2024, 1, 31, 10, 0, tzinfo=zoneinfo.ZoneInfo(key='US/Central')), open=4907.0, high=4914.5, low=4902.5, close=4908.0, volume=-1.0, average=-1.0, barCount=-1)\n",
      "BarData(date=datetime.datetime(2024, 1, 31, 11, 0, tzinfo=zoneinfo.ZoneInfo(key='US/Central')), open=4908.0, high=4913.75, low=4904.75, close=4913.0, volume=-1.0, average=-1.0, barCount=-1)\n",
      "BarData(date=datetime.datetime(2024, 1, 31, 12, 0, tzinfo=zoneinfo.ZoneInfo(key='US/Central')), open=4913.0, high=4916.5, low=4909.5, close=4913.25, volume=-1.0, average=-1.0, barCount=-1)\n",
      "BarData(date=datetime.datetime(2024, 1, 31, 13, 0, tzinfo=zoneinfo.ZoneInfo(key='US/Central')), open=4913.25, high=4929.75, low=4895.5, close=4904.25, volume=-1.0, average=-1.0, barCount=-1)\n",
      "BarData(date=datetime.datetime(2024, 1, 31, 14, 0, tzinfo=zoneinfo.ZoneInfo(key='US/Central')), open=4904.25, high=4905.75, low=4868.25, close=4868.75, volume=-1.0, average=-1.0, barCount=-1)\n",
      "BarData(date=datetime.datetime(2024, 1, 31, 15, 0, tzinfo=zoneinfo.ZoneInfo(key='US/Central')), open=4868.75, high=4876.0, low=4866.0, close=4872.0, volume=-1.0, average=-1.0, barCount=-1)\n",
      "BarData(date=datetime.datetime(2024, 2, 1, 8, 30, tzinfo=zoneinfo.ZoneInfo(key='US/Central')), open=4883.25, high=4894.5, low=4882.5, close=4887.25, volume=-1.0, average=-1.0, barCount=-1)\n",
      "BarData(date=datetime.datetime(2024, 2, 1, 9, 0, tzinfo=zoneinfo.ZoneInfo(key='US/Central')), open=4887.25, high=4899.25, low=4877.25, close=4877.75, volume=-1.0, average=-1.0, barCount=-1)\n",
      "BarData(date=datetime.datetime(2024, 2, 1, 10, 0, tzinfo=zoneinfo.ZoneInfo(key='US/Central')), open=4877.75, high=4895.25, low=4874.5, close=4893.75, volume=-1.0, average=-1.0, barCount=-1)\n",
      "BarData(date=datetime.datetime(2024, 2, 1, 11, 0, tzinfo=zoneinfo.ZoneInfo(key='US/Central')), open=4893.75, high=4919.5, low=4893.25, close=4911.0, volume=-1.0, average=-1.0, barCount=-1)\n",
      "BarData(date=datetime.datetime(2024, 2, 1, 12, 0, tzinfo=zoneinfo.ZoneInfo(key='US/Central')), open=4911.0, high=4913.25, low=4899.0, close=4909.5, volume=-1.0, average=-1.0, barCount=-1)\n",
      "BarData(date=datetime.datetime(2024, 2, 1, 13, 0, tzinfo=zoneinfo.ZoneInfo(key='US/Central')), open=4909.5, high=4922.75, low=4907.75, close=4922.5, volume=-1.0, average=-1.0, barCount=-1)\n",
      "BarData(date=datetime.datetime(2024, 2, 1, 14, 0, tzinfo=zoneinfo.ZoneInfo(key='US/Central')), open=4922.5, high=4929.75, low=4918.0, close=4929.75, volume=-1.0, average=-1.0, barCount=-1)\n",
      "BarData(date=datetime.datetime(2024, 2, 1, 15, 0, tzinfo=zoneinfo.ZoneInfo(key='US/Central')), open=4929.75, high=4964.0, low=4925.75, close=4959.25, volume=-1.0, average=-1.0, barCount=-1)\n",
      "BarData(date=datetime.datetime(2024, 2, 2, 8, 30, tzinfo=zoneinfo.ZoneInfo(key='US/Central')), open=4933.0, high=4946.0, low=4929.0, close=4941.25, volume=-1.0, average=-1.0, barCount=-1)\n",
      "BarData(date=datetime.datetime(2024, 2, 2, 9, 0, tzinfo=zoneinfo.ZoneInfo(key='US/Central')), open=4941.25, high=4961.0, low=4936.0, close=4958.5, volume=-1.0, average=-1.0, barCount=-1)\n",
      "BarData(date=datetime.datetime(2024, 2, 2, 10, 0, tzinfo=zoneinfo.ZoneInfo(key='US/Central')), open=4958.5, high=4977.25, low=4952.75, close=4972.5, volume=-1.0, average=-1.0, barCount=-1)\n",
      "BarData(date=datetime.datetime(2024, 2, 2, 11, 0, tzinfo=zoneinfo.ZoneInfo(key='US/Central')), open=4972.5, high=4983.5, low=4958.75, close=4973.25, volume=-1.0, average=-1.0, barCount=-1)\n",
      "BarData(date=datetime.datetime(2024, 2, 2, 12, 0, tzinfo=zoneinfo.ZoneInfo(key='US/Central')), open=4973.25, high=4982.5, low=4969.75, close=4980.0, volume=-1.0, average=-1.0, barCount=-1)\n",
      "BarData(date=datetime.datetime(2024, 2, 2, 13, 0, tzinfo=zoneinfo.ZoneInfo(key='US/Central')), open=4980.0, high=4994.75, low=4979.75, close=4994.0, volume=-1.0, average=-1.0, barCount=-1)\n",
      "BarData(date=datetime.datetime(2024, 2, 2, 14, 0, tzinfo=zoneinfo.ZoneInfo(key='US/Central')), open=4994.0, high=4997.75, low=4979.25, close=4979.5, volume=-1.0, average=-1.0, barCount=-1)\n",
      "BarData(date=datetime.datetime(2024, 2, 2, 15, 0, tzinfo=zoneinfo.ZoneInfo(key='US/Central')), open=4979.5, high=4979.5, low=4972.0, close=4973.0, volume=-1.0, average=-1.0, barCount=-1)\n",
      "BarData(date=datetime.datetime(2024, 2, 5, 8, 30, tzinfo=zoneinfo.ZoneInfo(key='US/Central')), open=4973.0, high=4973.0, low=4964.25, close=4970.0, volume=-1.0, average=-1.0, barCount=-1)\n",
      "BarData(date=datetime.datetime(2024, 2, 5, 9, 0, tzinfo=zoneinfo.ZoneInfo(key='US/Central')), open=4970.0, high=4970.0, low=4937.5, close=4944.0, volume=-1.0, average=-1.0, barCount=-1)\n",
      "BarData(date=datetime.datetime(2024, 2, 5, 10, 0, tzinfo=zoneinfo.ZoneInfo(key='US/Central')), open=4944.0, high=4957.25, low=4942.25, close=4957.0, volume=-1.0, average=-1.0, barCount=-1)\n",
      "BarData(date=datetime.datetime(2024, 2, 5, 11, 0, tzinfo=zoneinfo.ZoneInfo(key='US/Central')), open=4957.0, high=4969.75, low=4955.5, close=4966.25, volume=-1.0, average=-1.0, barCount=-1)\n",
      "BarData(date=datetime.datetime(2024, 2, 5, 12, 0, tzinfo=zoneinfo.ZoneInfo(key='US/Central')), open=4966.25, high=4971.25, low=4961.5, close=4967.0, volume=-1.0, average=-1.0, barCount=-1)\n",
      "BarData(date=datetime.datetime(2024, 2, 5, 13, 0, tzinfo=zoneinfo.ZoneInfo(key='US/Central')), open=4967.0, high=4977.75, low=4964.25, close=4975.75, volume=-1.0, average=-1.0, barCount=-1)\n",
      "BarData(date=datetime.datetime(2024, 2, 5, 14, 0, tzinfo=zoneinfo.ZoneInfo(key='US/Central')), open=4975.75, high=4976.25, low=4960.25, close=4961.0, volume=-1.0, average=-1.0, barCount=-1)\n",
      "BarData(date=datetime.datetime(2024, 2, 5, 15, 0, tzinfo=zoneinfo.ZoneInfo(key='US/Central')), open=4961.0, high=4962.25, low=4955.5, close=4960.25, volume=-1.0, average=-1.0, barCount=-1)\n",
      "BarData(date=datetime.datetime(2024, 2, 6, 8, 30, tzinfo=zoneinfo.ZoneInfo(key='US/Central')), open=4970.0, high=4978.25, low=4964.5, close=4965.0, volume=-1.0, average=-1.0, barCount=-1)\n",
      "BarData(date=datetime.datetime(2024, 2, 6, 9, 0, tzinfo=zoneinfo.ZoneInfo(key='US/Central')), open=4965.0, high=4966.75, low=4955.0, close=4963.0, volume=-1.0, average=-1.0, barCount=-1)\n",
      "BarData(date=datetime.datetime(2024, 2, 6, 10, 0, tzinfo=zoneinfo.ZoneInfo(key='US/Central')), open=4963.0, high=4969.25, low=4957.25, close=4958.5, volume=-1.0, average=-1.0, barCount=-1)\n",
      "BarData(date=datetime.datetime(2024, 2, 6, 11, 0, tzinfo=zoneinfo.ZoneInfo(key='US/Central')), open=4958.5, high=4964.5, low=4955.75, close=4960.75, volume=-1.0, average=-1.0, barCount=-1)\n",
      "BarData(date=datetime.datetime(2024, 2, 6, 12, 0, tzinfo=zoneinfo.ZoneInfo(key='US/Central')), open=4960.75, high=4970.5, low=4959.25, close=4970.25, volume=-1.0, average=-1.0, barCount=-1)\n",
      "BarData(date=datetime.datetime(2024, 2, 6, 13, 0, tzinfo=zoneinfo.ZoneInfo(key='US/Central')), open=4970.25, high=4970.75, low=4955.75, close=4966.5, volume=-1.0, average=-1.0, barCount=-1)\n",
      "BarData(date=datetime.datetime(2024, 2, 6, 14, 0, tzinfo=zoneinfo.ZoneInfo(key='US/Central')), open=4966.5, high=4975.75, low=4961.0, close=4975.0, volume=-1.0, average=-1.0, barCount=-1)\n",
      "BarData(date=datetime.datetime(2024, 2, 6, 15, 0, tzinfo=zoneinfo.ZoneInfo(key='US/Central')), open=4975.0, high=4976.25, low=4968.75, close=4972.5, volume=-1.0, average=-1.0, barCount=-1)\n",
      "BarData(date=datetime.datetime(2024, 2, 7, 8, 30, tzinfo=zoneinfo.ZoneInfo(key='US/Central')), open=4997.75, high=4999.25, low=4988.0, close=4993.25, volume=-1.0, average=-1.0, barCount=-1)\n",
      "BarData(date=datetime.datetime(2024, 2, 7, 9, 0, tzinfo=zoneinfo.ZoneInfo(key='US/Central')), open=4993.25, high=5015.25, low=4989.5, close=5007.5, volume=-1.0, average=-1.0, barCount=-1)\n",
      "BarData(date=datetime.datetime(2024, 2, 7, 10, 0, tzinfo=zoneinfo.ZoneInfo(key='US/Central')), open=5007.5, high=5013.5, low=5003.0, close=5010.75, volume=-1.0, average=-1.0, barCount=-1)\n",
      "BarData(date=datetime.datetime(2024, 2, 7, 11, 0, tzinfo=zoneinfo.ZoneInfo(key='US/Central')), open=5010.75, high=5013.5, low=5002.5, close=5010.25, volume=-1.0, average=-1.0, barCount=-1)\n",
      "BarData(date=datetime.datetime(2024, 2, 7, 12, 0, tzinfo=zoneinfo.ZoneInfo(key='US/Central')), open=5010.25, high=5019.25, low=5005.25, close=5015.5, volume=-1.0, average=-1.0, barCount=-1)\n",
      "BarData(date=datetime.datetime(2024, 2, 7, 13, 0, tzinfo=zoneinfo.ZoneInfo(key='US/Central')), open=5015.5, high=5018.25, low=5012.5, close=5018.0, volume=-1.0, average=-1.0, barCount=-1)\n",
      "BarData(date=datetime.datetime(2024, 2, 7, 14, 0, tzinfo=zoneinfo.ZoneInfo(key='US/Central')), open=5018.0, high=5020.0, low=5010.75, close=5015.75, volume=-1.0, average=-1.0, barCount=-1)\n",
      "BarData(date=datetime.datetime(2024, 2, 7, 15, 0, tzinfo=zoneinfo.ZoneInfo(key='US/Central')), open=5015.75, high=5016.25, low=5012.5, close=5015.75, volume=-1.0, average=-1.0, barCount=-1)\n",
      "BarData(date=datetime.datetime(2024, 2, 8, 8, 30, tzinfo=zoneinfo.ZoneInfo(key='US/Central')), open=5013.5, high=5016.0, low=5008.75, close=5012.5, volume=-1.0, average=-1.0, barCount=-1)\n",
      "BarData(date=datetime.datetime(2024, 2, 8, 9, 0, tzinfo=zoneinfo.ZoneInfo(key='US/Central')), open=5012.5, high=5014.75, low=5005.5, close=5014.25, volume=-1.0, average=-1.0, barCount=-1)\n",
      "BarData(date=datetime.datetime(2024, 2, 8, 10, 0, tzinfo=zoneinfo.ZoneInfo(key='US/Central')), open=5014.25, high=5014.75, low=5005.0, close=5010.75, volume=-1.0, average=-1.0, barCount=-1)\n",
      "BarData(date=datetime.datetime(2024, 2, 8, 11, 0, tzinfo=zoneinfo.ZoneInfo(key='US/Central')), open=5010.75, high=5013.75, low=5006.25, close=5008.25, volume=-1.0, average=-1.0, barCount=-1)\n",
      "BarData(date=datetime.datetime(2024, 2, 8, 12, 0, tzinfo=zoneinfo.ZoneInfo(key='US/Central')), open=5008.25, high=5016.0, low=5007.5, close=5013.75, volume=-1.0, average=-1.0, barCount=-1)\n",
      "BarData(date=datetime.datetime(2024, 2, 8, 13, 0, tzinfo=zoneinfo.ZoneInfo(key='US/Central')), open=5013.75, high=5015.75, low=5008.0, close=5015.0, volume=-1.0, average=-1.0, barCount=-1)\n",
      "BarData(date=datetime.datetime(2024, 2, 8, 14, 0, tzinfo=zoneinfo.ZoneInfo(key='US/Central')), open=5015.0, high=5020.0, low=5011.0, close=5017.0, volume=-1.0, average=-1.0, barCount=-1)\n",
      "BarData(date=datetime.datetime(2024, 2, 8, 15, 0, tzinfo=zoneinfo.ZoneInfo(key='US/Central')), open=5017.0, high=5017.0, low=5013.75, close=5014.5, volume=-1.0, average=-1.0, barCount=-1)\n",
      "BarData(date=datetime.datetime(2024, 2, 9, 8, 30, tzinfo=zoneinfo.ZoneInfo(key='US/Central')), open=5020.25, high=5027.75, low=5016.25, close=5026.75, volume=-1.0, average=-1.0, barCount=-1)\n",
      "BarData(date=datetime.datetime(2024, 2, 9, 9, 0, tzinfo=zoneinfo.ZoneInfo(key='US/Central')), open=5026.75, high=5032.0, low=5022.75, close=5031.5, volume=-1.0, average=-1.0, barCount=-1)\n",
      "BarData(date=datetime.datetime(2024, 2, 9, 10, 0, tzinfo=zoneinfo.ZoneInfo(key='US/Central')), open=5031.5, high=5034.0, low=5024.75, close=5027.5, volume=-1.0, average=-1.0, barCount=-1)\n",
      "BarData(date=datetime.datetime(2024, 2, 9, 11, 0, tzinfo=zoneinfo.ZoneInfo(key='US/Central')), open=5027.5, high=5036.75, low=5025.25, close=5036.5, volume=-1.0, average=-1.0, barCount=-1)\n",
      "BarData(date=datetime.datetime(2024, 2, 9, 12, 0, tzinfo=zoneinfo.ZoneInfo(key='US/Central')), open=5036.5, high=5041.25, low=5034.5, close=5039.0, volume=-1.0, average=-1.0, barCount=-1)\n",
      "BarData(date=datetime.datetime(2024, 2, 9, 13, 0, tzinfo=zoneinfo.ZoneInfo(key='US/Central')), open=5039.0, high=5048.5, low=5038.25, close=5045.0, volume=-1.0, average=-1.0, barCount=-1)\n",
      "BarData(date=datetime.datetime(2024, 2, 9, 14, 0, tzinfo=zoneinfo.ZoneInfo(key='US/Central')), open=5045.0, high=5045.75, low=5039.0, close=5044.0, volume=-1.0, average=-1.0, barCount=-1)\n",
      "BarData(date=datetime.datetime(2024, 2, 9, 15, 0, tzinfo=zoneinfo.ZoneInfo(key='US/Central')), open=5044.0, high=5044.75, low=5041.5, close=5042.0, volume=-1.0, average=-1.0, barCount=-1)\n",
      "BarData(date=datetime.datetime(2024, 2, 12, 8, 30, tzinfo=zoneinfo.ZoneInfo(key='US/Central')), open=5043.0, high=5046.0, low=5042.5, close=5045.5, volume=-1.0, average=-1.0, barCount=-1)\n",
      "BarData(date=datetime.datetime(2024, 2, 12, 9, 0, tzinfo=zoneinfo.ZoneInfo(key='US/Central')), open=5045.5, high=5052.75, low=5041.25, close=5052.25, volume=-1.0, average=-1.0, barCount=-1)\n",
      "BarData(date=datetime.datetime(2024, 2, 12, 10, 0, tzinfo=zoneinfo.ZoneInfo(key='US/Central')), open=5052.25, high=5066.75, low=5049.75, close=5064.5, volume=-1.0, average=-1.0, barCount=-1)\n",
      "BarData(date=datetime.datetime(2024, 2, 12, 11, 0, tzinfo=zoneinfo.ZoneInfo(key='US/Central')), open=5064.5, high=5066.0, low=5057.75, close=5063.5, volume=-1.0, average=-1.0, barCount=-1)\n",
      "BarData(date=datetime.datetime(2024, 2, 12, 12, 0, tzinfo=zoneinfo.ZoneInfo(key='US/Central')), open=5063.5, high=5066.0, low=5048.0, close=5052.0, volume=-1.0, average=-1.0, barCount=-1)\n",
      "BarData(date=datetime.datetime(2024, 2, 12, 13, 0, tzinfo=zoneinfo.ZoneInfo(key='US/Central')), open=5052.0, high=5053.0, low=5033.25, close=5037.25, volume=-1.0, average=-1.0, barCount=-1)\n",
      "BarData(date=datetime.datetime(2024, 2, 12, 14, 0, tzinfo=zoneinfo.ZoneInfo(key='US/Central')), open=5037.25, high=5043.75, low=5036.25, close=5041.5, volume=-1.0, average=-1.0, barCount=-1)\n",
      "BarData(date=datetime.datetime(2024, 2, 12, 15, 0, tzinfo=zoneinfo.ZoneInfo(key='US/Central')), open=5041.5, high=5042.5, low=5031.5, close=5036.0, volume=-1.0, average=-1.0, barCount=-1)\n",
      "BarData(date=datetime.datetime(2024, 2, 13, 8, 30, tzinfo=zoneinfo.ZoneInfo(key='US/Central')), open=4975.0, high=4982.0, low=4966.0, close=4968.0, volume=-1.0, average=-1.0, barCount=-1)\n",
      "BarData(date=datetime.datetime(2024, 2, 13, 9, 0, tzinfo=zoneinfo.ZoneInfo(key='US/Central')), open=4968.0, high=4982.75, low=4961.75, close=4975.5, volume=-1.0, average=-1.0, barCount=-1)\n",
      "BarData(date=datetime.datetime(2024, 2, 13, 10, 0, tzinfo=zoneinfo.ZoneInfo(key='US/Central')), open=4975.5, high=4988.25, low=4975.25, close=4980.75, volume=-1.0, average=-1.0, barCount=-1)\n",
      "BarData(date=datetime.datetime(2024, 2, 13, 11, 0, tzinfo=zoneinfo.ZoneInfo(key='US/Central')), open=4980.75, high=4983.0, low=4971.25, close=4973.0, volume=-1.0, average=-1.0, barCount=-1)\n",
      "BarData(date=datetime.datetime(2024, 2, 13, 12, 0, tzinfo=zoneinfo.ZoneInfo(key='US/Central')), open=4973.0, high=4974.5, low=4963.25, close=4965.5, volume=-1.0, average=-1.0, barCount=-1)\n",
      "BarData(date=datetime.datetime(2024, 2, 13, 13, 0, tzinfo=zoneinfo.ZoneInfo(key='US/Central')), open=4965.5, high=4965.5, low=4940.25, close=4943.25, volume=-1.0, average=-1.0, barCount=-1)\n",
      "BarData(date=datetime.datetime(2024, 2, 13, 14, 0, tzinfo=zoneinfo.ZoneInfo(key='US/Central')), open=4943.25, high=4972.5, low=4936.5, close=4971.75, volume=-1.0, average=-1.0, barCount=-1)\n",
      "BarData(date=datetime.datetime(2024, 2, 13, 15, 0, tzinfo=zoneinfo.ZoneInfo(key='US/Central')), open=4971.75, high=4974.25, low=4968.25, close=4973.5, volume=-1.0, average=-1.0, barCount=-1)\n",
      "BarData(date=datetime.datetime(2024, 2, 14, 8, 30, tzinfo=zoneinfo.ZoneInfo(key='US/Central')), open=4997.25, high=5002.5, low=4986.75, close=4998.0, volume=-1.0, average=-1.0, barCount=-1)\n",
      "BarData(date=datetime.datetime(2024, 2, 14, 9, 0, tzinfo=zoneinfo.ZoneInfo(key='US/Central')), open=4998.0, high=5009.25, low=4988.5, close=4988.75, volume=-1.0, average=-1.0, barCount=-1)\n",
      "BarData(date=datetime.datetime(2024, 2, 14, 10, 0, tzinfo=zoneinfo.ZoneInfo(key='US/Central')), open=4988.75, high=4992.25, low=4980.5, close=4982.5, volume=-1.0, average=-1.0, barCount=-1)\n",
      "BarData(date=datetime.datetime(2024, 2, 14, 11, 0, tzinfo=zoneinfo.ZoneInfo(key='US/Central')), open=4982.5, high=4992.25, low=4972.75, close=4991.25, volume=-1.0, average=-1.0, barCount=-1)\n",
      "BarData(date=datetime.datetime(2024, 2, 14, 12, 0, tzinfo=zoneinfo.ZoneInfo(key='US/Central')), open=4991.25, high=5000.5, low=4983.0, close=4995.0, volume=-1.0, average=-1.0, barCount=-1)\n",
      "BarData(date=datetime.datetime(2024, 2, 14, 13, 0, tzinfo=zoneinfo.ZoneInfo(key='US/Central')), open=4995.0, high=5000.0, low=4981.0, close=4998.25, volume=-1.0, average=-1.0, barCount=-1)\n",
      "BarData(date=datetime.datetime(2024, 2, 14, 14, 0, tzinfo=zoneinfo.ZoneInfo(key='US/Central')), open=4998.25, high=5020.25, low=4995.0, close=5015.25, volume=-1.0, average=-1.0, barCount=-1)\n",
      "BarData(date=datetime.datetime(2024, 2, 14, 15, 0, tzinfo=zoneinfo.ZoneInfo(key='US/Central')), open=5015.25, high=5022.5, low=5012.75, close=5017.75, volume=-1.0, average=-1.0, barCount=-1)\n",
      "BarData(date=datetime.datetime(2024, 2, 15, 8, 30, tzinfo=zoneinfo.ZoneInfo(key='US/Central')), open=5019.0, high=5030.0, low=5018.5, close=5022.75, volume=-1.0, average=-1.0, barCount=-1)\n",
      "BarData(date=datetime.datetime(2024, 2, 15, 9, 0, tzinfo=zoneinfo.ZoneInfo(key='US/Central')), open=5022.75, high=5032.0, low=5019.0, close=5024.5, volume=-1.0, average=-1.0, barCount=-1)\n",
      "BarData(date=datetime.datetime(2024, 2, 15, 10, 0, tzinfo=zoneinfo.ZoneInfo(key='US/Central')), open=5024.5, high=5027.75, low=5013.75, close=5024.25, volume=-1.0, average=-1.0, barCount=-1)\n",
      "BarData(date=datetime.datetime(2024, 2, 15, 11, 0, tzinfo=zoneinfo.ZoneInfo(key='US/Central')), open=5024.25, high=5032.0, low=5022.75, close=5026.75, volume=-1.0, average=-1.0, barCount=-1)\n",
      "BarData(date=datetime.datetime(2024, 2, 15, 12, 0, tzinfo=zoneinfo.ZoneInfo(key='US/Central')), open=5026.75, high=5043.25, low=5025.5, close=5040.25, volume=-1.0, average=-1.0, barCount=-1)\n",
      "BarData(date=datetime.datetime(2024, 2, 15, 13, 0, tzinfo=zoneinfo.ZoneInfo(key='US/Central')), open=5040.25, high=5048.5, low=5036.25, close=5045.0, volume=-1.0, average=-1.0, barCount=-1)\n",
      "BarData(date=datetime.datetime(2024, 2, 15, 14, 0, tzinfo=zoneinfo.ZoneInfo(key='US/Central')), open=5045.0, high=5047.5, low=5038.0, close=5046.75, volume=-1.0, average=-1.0, barCount=-1)\n",
      "BarData(date=datetime.datetime(2024, 2, 15, 15, 0, tzinfo=zoneinfo.ZoneInfo(key='US/Central')), open=5046.75, high=5052.0, low=5045.5, close=5050.5, volume=-1.0, average=-1.0, barCount=-1)\n",
      "BarData(date=datetime.datetime(2024, 2, 16, 8, 30, tzinfo=zoneinfo.ZoneInfo(key='US/Central')), open=5043.0, high=5045.25, low=5018.5, close=5022.5, volume=-1.0, average=-1.0, barCount=-1)\n",
      "BarData(date=datetime.datetime(2024, 2, 16, 9, 0, tzinfo=zoneinfo.ZoneInfo(key='US/Central')), open=5022.5, high=5037.25, low=5012.75, close=5035.0, volume=-1.0, average=-1.0, barCount=-1)\n",
      "BarData(date=datetime.datetime(2024, 2, 16, 10, 0, tzinfo=zoneinfo.ZoneInfo(key='US/Central')), open=5035.0, high=5050.5, low=5034.5, close=5048.0, volume=-1.0, average=-1.0, barCount=-1)\n",
      "BarData(date=datetime.datetime(2024, 2, 16, 11, 0, tzinfo=zoneinfo.ZoneInfo(key='US/Central')), open=5048.0, high=5049.5, low=5042.25, close=5044.0, volume=-1.0, average=-1.0, barCount=-1)\n",
      "BarData(date=datetime.datetime(2024, 2, 16, 12, 0, tzinfo=zoneinfo.ZoneInfo(key='US/Central')), open=5044.0, high=5049.5, low=5033.0, close=5049.5, volume=-1.0, average=-1.0, barCount=-1)\n",
      "BarData(date=datetime.datetime(2024, 2, 16, 13, 0, tzinfo=zoneinfo.ZoneInfo(key='US/Central')), open=5049.5, high=5054.5, low=5024.75, close=5031.25, volume=-1.0, average=-1.0, barCount=-1)\n",
      "BarData(date=datetime.datetime(2024, 2, 16, 14, 0, tzinfo=zoneinfo.ZoneInfo(key='US/Central')), open=5031.25, high=5033.25, low=5015.0, close=5020.5, volume=-1.0, average=-1.0, barCount=-1)\n",
      "BarData(date=datetime.datetime(2024, 2, 16, 15, 0, tzinfo=zoneinfo.ZoneInfo(key='US/Central')), open=5020.5, high=5021.25, low=5013.0, close=5014.75, volume=-1.0, average=-1.0, barCount=-1)\n",
      "BarData(date=datetime.datetime(2024, 2, 20, 8, 30, tzinfo=zoneinfo.ZoneInfo(key='US/Central')), open=5001.75, high=5009.0, low=4986.0, close=4991.5, volume=-1.0, average=-1.0, barCount=-1)\n",
      "BarData(date=datetime.datetime(2024, 2, 20, 9, 0, tzinfo=zoneinfo.ZoneInfo(key='US/Central')), open=4991.5, high=4995.0, low=4981.75, close=4994.75, volume=-1.0, average=-1.0, barCount=-1)\n",
      "BarData(date=datetime.datetime(2024, 2, 20, 10, 0, tzinfo=zoneinfo.ZoneInfo(key='US/Central')), open=4994.75, high=4997.5, low=4981.0, close=4982.0, volume=-1.0, average=-1.0, barCount=-1)\n",
      "BarData(date=datetime.datetime(2024, 2, 20, 11, 0, tzinfo=zoneinfo.ZoneInfo(key='US/Central')), open=4982.0, high=4982.25, low=4968.75, close=4979.25, volume=-1.0, average=-1.0, barCount=-1)\n",
      "BarData(date=datetime.datetime(2024, 2, 20, 12, 0, tzinfo=zoneinfo.ZoneInfo(key='US/Central')), open=4979.25, high=4984.25, low=4971.5, close=4983.5, volume=-1.0, average=-1.0, barCount=-1)\n",
      "BarData(date=datetime.datetime(2024, 2, 20, 13, 0, tzinfo=zoneinfo.ZoneInfo(key='US/Central')), open=4983.5, high=4992.75, low=4976.25, close=4992.0, volume=-1.0, average=-1.0, barCount=-1)\n",
      "BarData(date=datetime.datetime(2024, 2, 20, 14, 0, tzinfo=zoneinfo.ZoneInfo(key='US/Central')), open=4992.0, high=4993.5, low=4975.5, close=4992.75, volume=-1.0, average=-1.0, barCount=-1)\n",
      "BarData(date=datetime.datetime(2024, 2, 20, 15, 0, tzinfo=zoneinfo.ZoneInfo(key='US/Central')), open=4992.75, high=4993.0, low=4986.25, close=4989.75, volume=-1.0, average=-1.0, barCount=-1)\n",
      "BarData(date=datetime.datetime(2024, 2, 21, 8, 30, tzinfo=zoneinfo.ZoneInfo(key='US/Central')), open=4978.25, high=4981.0, low=4973.0, close=4976.75, volume=-1.0, average=-1.0, barCount=-1)\n",
      "BarData(date=datetime.datetime(2024, 2, 21, 9, 0, tzinfo=zoneinfo.ZoneInfo(key='US/Central')), open=4976.75, high=4984.75, low=4974.25, close=4976.75, volume=-1.0, average=-1.0, barCount=-1)\n",
      "BarData(date=datetime.datetime(2024, 2, 21, 10, 0, tzinfo=zoneinfo.ZoneInfo(key='US/Central')), open=4976.75, high=4987.0, low=4976.5, close=4983.75, volume=-1.0, average=-1.0, barCount=-1)\n",
      "BarData(date=datetime.datetime(2024, 2, 21, 11, 0, tzinfo=zoneinfo.ZoneInfo(key='US/Central')), open=4983.75, high=4984.5, low=4969.75, close=4979.5, volume=-1.0, average=-1.0, barCount=-1)\n",
      "BarData(date=datetime.datetime(2024, 2, 21, 12, 0, tzinfo=zoneinfo.ZoneInfo(key='US/Central')), open=4979.5, high=4981.5, low=4967.75, close=4977.25, volume=-1.0, average=-1.0, barCount=-1)\n",
      "BarData(date=datetime.datetime(2024, 2, 21, 13, 0, tzinfo=zoneinfo.ZoneInfo(key='US/Central')), open=4977.25, high=4985.0, low=4962.75, close=4969.75, volume=-1.0, average=-1.0, barCount=-1)\n",
      "BarData(date=datetime.datetime(2024, 2, 21, 14, 0, tzinfo=zoneinfo.ZoneInfo(key='US/Central')), open=4969.75, high=4998.25, low=4959.0, close=4995.75, volume=-1.0, average=-1.0, barCount=-1)\n",
      "BarData(date=datetime.datetime(2024, 2, 21, 15, 0, tzinfo=zoneinfo.ZoneInfo(key='US/Central')), open=4995.75, high=5020.5, low=4973.25, close=5019.25, volume=-1.0, average=-1.0, barCount=-1)\n",
      "BarData(date=datetime.datetime(2024, 2, 22, 8, 30, tzinfo=zoneinfo.ZoneInfo(key='US/Central')), open=5062.5, high=5076.75, low=5052.25, close=5072.5, volume=-1.0, average=-1.0, barCount=-1)\n",
      "BarData(date=datetime.datetime(2024, 2, 22, 9, 0, tzinfo=zoneinfo.ZoneInfo(key='US/Central')), open=5072.5, high=5079.5, low=5067.5, close=5070.0, volume=-1.0, average=-1.0, barCount=-1)\n",
      "BarData(date=datetime.datetime(2024, 2, 22, 10, 0, tzinfo=zoneinfo.ZoneInfo(key='US/Central')), open=5070.0, high=5081.5, low=5067.5, close=5075.0, volume=-1.0, average=-1.0, barCount=-1)\n",
      "BarData(date=datetime.datetime(2024, 2, 22, 11, 0, tzinfo=zoneinfo.ZoneInfo(key='US/Central')), open=5075.0, high=5087.75, low=5071.25, close=5087.25, volume=-1.0, average=-1.0, barCount=-1)\n",
      "BarData(date=datetime.datetime(2024, 2, 22, 12, 0, tzinfo=zoneinfo.ZoneInfo(key='US/Central')), open=5087.25, high=5095.5, low=5083.25, close=5095.25, volume=-1.0, average=-1.0, barCount=-1)\n",
      "BarData(date=datetime.datetime(2024, 2, 22, 13, 0, tzinfo=zoneinfo.ZoneInfo(key='US/Central')), open=5095.25, high=5107.75, low=5091.5, close=5094.75, volume=-1.0, average=-1.0, barCount=-1)\n",
      "BarData(date=datetime.datetime(2024, 2, 22, 14, 0, tzinfo=zoneinfo.ZoneInfo(key='US/Central')), open=5094.75, high=5105.75, low=5093.25, close=5097.5, volume=-1.0, average=-1.0, barCount=-1)\n",
      "BarData(date=datetime.datetime(2024, 2, 22, 15, 0, tzinfo=zoneinfo.ZoneInfo(key='US/Central')), open=5097.5, high=5097.5, low=5092.0, close=5093.25, volume=-1.0, average=-1.0, barCount=-1)\n",
      "BarData(date=datetime.datetime(2024, 2, 23, 8, 30, tzinfo=zoneinfo.ZoneInfo(key='US/Central')), open=5114.5, high=5123.25, low=5112.5, close=5119.25, volume=-1.0, average=-1.0, barCount=-1)\n",
      "BarData(date=datetime.datetime(2024, 2, 23, 9, 0, tzinfo=zoneinfo.ZoneInfo(key='US/Central')), open=5119.25, high=5121.25, low=5105.75, close=5108.75, volume=-1.0, average=-1.0, barCount=-1)\n",
      "BarData(date=datetime.datetime(2024, 2, 23, 10, 0, tzinfo=zoneinfo.ZoneInfo(key='US/Central')), open=5108.75, high=5109.75, low=5092.5, close=5106.5, volume=-1.0, average=-1.0, barCount=-1)\n",
      "BarData(date=datetime.datetime(2024, 2, 23, 11, 0, tzinfo=zoneinfo.ZoneInfo(key='US/Central')), open=5106.5, high=5111.75, low=5099.25, close=5108.0, volume=-1.0, average=-1.0, barCount=-1)\n",
      "BarData(date=datetime.datetime(2024, 2, 23, 12, 0, tzinfo=zoneinfo.ZoneInfo(key='US/Central')), open=5108.0, high=5112.25, low=5104.5, close=5107.0, volume=-1.0, average=-1.0, barCount=-1)\n",
      "BarData(date=datetime.datetime(2024, 2, 23, 13, 0, tzinfo=zoneinfo.ZoneInfo(key='US/Central')), open=5107.0, high=5107.75, low=5097.5, close=5105.0, volume=-1.0, average=-1.0, barCount=-1)\n",
      "BarData(date=datetime.datetime(2024, 2, 23, 14, 0, tzinfo=zoneinfo.ZoneInfo(key='US/Central')), open=5105.0, high=5109.25, low=5098.5, close=5099.75, volume=-1.0, average=-1.0, barCount=-1)\n",
      "BarData(date=datetime.datetime(2024, 2, 23, 15, 0, tzinfo=zoneinfo.ZoneInfo(key='US/Central')), open=5099.75, high=5100.25, low=5094.25, close=5094.75, volume=-1.0, average=-1.0, barCount=-1)\n",
      "BarData(date=datetime.datetime(2024, 2, 26, 8, 30, tzinfo=zoneinfo.ZoneInfo(key='US/Central')), open=5103.75, high=5108.25, low=5097.75, close=5102.75, volume=-1.0, average=-1.0, barCount=-1)\n",
      "BarData(date=datetime.datetime(2024, 2, 26, 9, 0, tzinfo=zoneinfo.ZoneInfo(key='US/Central')), open=5102.75, high=5106.0, low=5094.5, close=5095.75, volume=-1.0, average=-1.0, barCount=-1)\n",
      "BarData(date=datetime.datetime(2024, 2, 26, 10, 0, tzinfo=zoneinfo.ZoneInfo(key='US/Central')), open=5095.75, high=5099.75, low=5090.5, close=5098.0, volume=-1.0, average=-1.0, barCount=-1)\n",
      "BarData(date=datetime.datetime(2024, 2, 26, 11, 0, tzinfo=zoneinfo.ZoneInfo(key='US/Central')), open=5098.0, high=5099.75, low=5091.75, close=5093.75, volume=-1.0, average=-1.0, barCount=-1)\n",
      "BarData(date=datetime.datetime(2024, 2, 26, 12, 0, tzinfo=zoneinfo.ZoneInfo(key='US/Central')), open=5093.75, high=5096.75, low=5080.75, close=5089.25, volume=-1.0, average=-1.0, barCount=-1)\n",
      "BarData(date=datetime.datetime(2024, 2, 26, 13, 0, tzinfo=zoneinfo.ZoneInfo(key='US/Central')), open=5089.25, high=5094.75, low=5085.5, close=5088.25, volume=-1.0, average=-1.0, barCount=-1)\n",
      "BarData(date=datetime.datetime(2024, 2, 26, 14, 0, tzinfo=zoneinfo.ZoneInfo(key='US/Central')), open=5088.25, high=5094.0, low=5078.5, close=5080.25, volume=-1.0, average=-1.0, barCount=-1)\n",
      "BarData(date=datetime.datetime(2024, 2, 26, 15, 0, tzinfo=zoneinfo.ZoneInfo(key='US/Central')), open=5080.25, high=5080.5, low=5076.25, close=5077.5, volume=-1.0, average=-1.0, barCount=-1)\n",
      "BarData(date=datetime.datetime(2024, 2, 27, 8, 30, tzinfo=zoneinfo.ZoneInfo(key='US/Central')), open=5086.75, high=5087.25, low=5074.75, close=5081.0, volume=-1.0, average=-1.0, barCount=-1)\n",
      "BarData(date=datetime.datetime(2024, 2, 27, 9, 0, tzinfo=zoneinfo.ZoneInfo(key='US/Central')), open=5081.0, high=5085.5, low=5075.5, close=5081.0, volume=-1.0, average=-1.0, barCount=-1)\n",
      "BarData(date=datetime.datetime(2024, 2, 27, 10, 0, tzinfo=zoneinfo.ZoneInfo(key='US/Central')), open=5081.0, high=5081.5, low=5074.0, close=5078.75, volume=-1.0, average=-1.0, barCount=-1)\n",
      "BarData(date=datetime.datetime(2024, 2, 27, 11, 0, tzinfo=zoneinfo.ZoneInfo(key='US/Central')), open=5078.75, high=5079.75, low=5069.25, close=5070.25, volume=-1.0, average=-1.0, barCount=-1)\n",
      "BarData(date=datetime.datetime(2024, 2, 27, 12, 0, tzinfo=zoneinfo.ZoneInfo(key='US/Central')), open=5070.25, high=5078.5, low=5067.0, close=5077.5, volume=-1.0, average=-1.0, barCount=-1)\n",
      "BarData(date=datetime.datetime(2024, 2, 27, 13, 0, tzinfo=zoneinfo.ZoneInfo(key='US/Central')), open=5077.5, high=5086.75, low=5076.75, close=5086.25, volume=-1.0, average=-1.0, barCount=-1)\n",
      "BarData(date=datetime.datetime(2024, 2, 27, 14, 0, tzinfo=zoneinfo.ZoneInfo(key='US/Central')), open=5086.25, high=5091.75, low=5081.75, close=5088.75, volume=-1.0, average=-1.0, barCount=-1)\n",
      "BarData(date=datetime.datetime(2024, 2, 27, 15, 0, tzinfo=zoneinfo.ZoneInfo(key='US/Central')), open=5088.75, high=5093.0, low=5087.75, close=5090.5, volume=-1.0, average=-1.0, barCount=-1)\n",
      "BarData(date=datetime.datetime(2024, 2, 28, 8, 30, tzinfo=zoneinfo.ZoneInfo(key='US/Central')), open=5072.25, high=5077.25, low=5068.25, close=5072.25, volume=-1.0, average=-1.0, barCount=-1)\n",
      "BarData(date=datetime.datetime(2024, 2, 28, 9, 0, tzinfo=zoneinfo.ZoneInfo(key='US/Central')), open=5072.25, high=5084.5, low=5071.0, close=5084.0, volume=-1.0, average=-1.0, barCount=-1)\n",
      "BarData(date=datetime.datetime(2024, 2, 28, 10, 0, tzinfo=zoneinfo.ZoneInfo(key='US/Central')), open=5084.0, high=5087.75, low=5080.75, close=5085.0, volume=-1.0, average=-1.0, barCount=-1)\n",
      "BarData(date=datetime.datetime(2024, 2, 28, 11, 0, tzinfo=zoneinfo.ZoneInfo(key='US/Central')), open=5085.0, high=5086.0, low=5073.25, close=5078.0, volume=-1.0, average=-1.0, barCount=-1)\n",
      "BarData(date=datetime.datetime(2024, 2, 28, 12, 0, tzinfo=zoneinfo.ZoneInfo(key='US/Central')), open=5078.0, high=5087.25, low=5074.0, close=5085.75, volume=-1.0, average=-1.0, barCount=-1)\n",
      "BarData(date=datetime.datetime(2024, 2, 28, 13, 0, tzinfo=zoneinfo.ZoneInfo(key='US/Central')), open=5085.75, high=5086.25, low=5070.75, close=5077.75, volume=-1.0, average=-1.0, barCount=-1)\n",
      "BarData(date=datetime.datetime(2024, 2, 28, 14, 0, tzinfo=zoneinfo.ZoneInfo(key='US/Central')), open=5077.75, high=5082.0, low=5072.75, close=5081.75, volume=-1.0, average=-1.0, barCount=-1)\n",
      "BarData(date=datetime.datetime(2024, 2, 28, 15, 0, tzinfo=zoneinfo.ZoneInfo(key='US/Central')), open=5081.75, high=5082.0, low=5066.75, close=5069.75, volume=-1.0, average=-1.0, barCount=-1)\n",
      "BarData(date=datetime.datetime(2024, 2, 29, 8, 30, tzinfo=zoneinfo.ZoneInfo(key='US/Central')), open=5098.0, high=5105.5, low=5097.5, close=5102.0, volume=-1.0, average=-1.0, barCount=-1)\n",
      "BarData(date=datetime.datetime(2024, 2, 29, 9, 0, tzinfo=zoneinfo.ZoneInfo(key='US/Central')), open=5102.0, high=5104.5, low=5084.5, close=5091.25, volume=-1.0, average=-1.0, barCount=-1)\n",
      "BarData(date=datetime.datetime(2024, 2, 29, 10, 0, tzinfo=zoneinfo.ZoneInfo(key='US/Central')), open=5091.25, high=5094.25, low=5070.0, close=5083.5, volume=-1.0, average=-1.0, barCount=-1)\n",
      "BarData(date=datetime.datetime(2024, 2, 29, 11, 0, tzinfo=zoneinfo.ZoneInfo(key='US/Central')), open=5083.5, high=5091.25, low=5081.75, close=5090.75, volume=-1.0, average=-1.0, barCount=-1)\n",
      "BarData(date=datetime.datetime(2024, 2, 29, 12, 0, tzinfo=zoneinfo.ZoneInfo(key='US/Central')), open=5090.75, high=5096.25, low=5090.25, close=5095.25, volume=-1.0, average=-1.0, barCount=-1)\n",
      "BarData(date=datetime.datetime(2024, 2, 29, 13, 0, tzinfo=zoneinfo.ZoneInfo(key='US/Central')), open=5095.25, high=5100.0, low=5088.5, close=5094.5, volume=-1.0, average=-1.0, barCount=-1)\n",
      "BarData(date=datetime.datetime(2024, 2, 29, 14, 0, tzinfo=zoneinfo.ZoneInfo(key='US/Central')), open=5094.5, high=5114.5, low=5093.25, close=5096.75, volume=-1.0, average=-1.0, barCount=-1)\n",
      "BarData(date=datetime.datetime(2024, 2, 29, 15, 0, tzinfo=zoneinfo.ZoneInfo(key='US/Central')), open=5096.75, high=5103.5, low=5093.0, close=5100.75, volume=-1.0, average=-1.0, barCount=-1)\n",
      "BarData(date=datetime.datetime(2024, 3, 1, 8, 30, tzinfo=zoneinfo.ZoneInfo(key='US/Central')), open=5105.75, high=5111.75, low=5101.25, close=5106.75, volume=-1.0, average=-1.0, barCount=-1)\n",
      "BarData(date=datetime.datetime(2024, 3, 1, 9, 0, tzinfo=zoneinfo.ZoneInfo(key='US/Central')), open=5106.75, high=5124.5, low=5102.5, close=5122.75, volume=-1.0, average=-1.0, barCount=-1)\n",
      "BarData(date=datetime.datetime(2024, 3, 1, 10, 0, tzinfo=zoneinfo.ZoneInfo(key='US/Central')), open=5122.75, high=5130.25, low=5117.75, close=5127.75, volume=-1.0, average=-1.0, barCount=-1)\n",
      "BarData(date=datetime.datetime(2024, 3, 1, 11, 0, tzinfo=zoneinfo.ZoneInfo(key='US/Central')), open=5127.75, high=5137.0, low=5123.25, close=5134.5, volume=-1.0, average=-1.0, barCount=-1)\n",
      "BarData(date=datetime.datetime(2024, 3, 1, 12, 0, tzinfo=zoneinfo.ZoneInfo(key='US/Central')), open=5134.5, high=5143.5, low=5132.75, close=5142.75, volume=-1.0, average=-1.0, barCount=-1)\n",
      "BarData(date=datetime.datetime(2024, 3, 1, 13, 0, tzinfo=zoneinfo.ZoneInfo(key='US/Central')), open=5142.75, high=5149.5, low=5142.0, close=5147.5, volume=-1.0, average=-1.0, barCount=-1)\n",
      "BarData(date=datetime.datetime(2024, 3, 1, 14, 0, tzinfo=zoneinfo.ZoneInfo(key='US/Central')), open=5147.5, high=5148.0, low=5139.5, close=5145.0, volume=-1.0, average=-1.0, barCount=-1)\n",
      "BarData(date=datetime.datetime(2024, 3, 1, 15, 0, tzinfo=zoneinfo.ZoneInfo(key='US/Central')), open=5145.0, high=5145.25, low=5138.25, close=5138.75, volume=-1.0, average=-1.0, barCount=-1)\n",
      "BarData(date=datetime.datetime(2024, 3, 4, 8, 30, tzinfo=zoneinfo.ZoneInfo(key='US/Central')), open=5135.75, high=5141.75, low=5135.25, close=5140.5, volume=-1.0, average=-1.0, barCount=-1)\n",
      "BarData(date=datetime.datetime(2024, 3, 4, 9, 0, tzinfo=zoneinfo.ZoneInfo(key='US/Central')), open=5140.5, high=5144.25, low=5136.0, close=5142.25, volume=-1.0, average=-1.0, barCount=-1)\n",
      "BarData(date=datetime.datetime(2024, 3, 4, 10, 0, tzinfo=zoneinfo.ZoneInfo(key='US/Central')), open=5142.25, high=5143.75, low=5137.0, close=5142.75, volume=-1.0, average=-1.0, barCount=-1)\n",
      "BarData(date=datetime.datetime(2024, 3, 4, 11, 0, tzinfo=zoneinfo.ZoneInfo(key='US/Central')), open=5142.75, high=5147.25, low=5140.25, close=5145.0, volume=-1.0, average=-1.0, barCount=-1)\n",
      "BarData(date=datetime.datetime(2024, 3, 4, 12, 0, tzinfo=zoneinfo.ZoneInfo(key='US/Central')), open=5145.0, high=5146.25, low=5138.5, close=5143.25, volume=-1.0, average=-1.0, barCount=-1)\n",
      "BarData(date=datetime.datetime(2024, 3, 4, 13, 0, tzinfo=zoneinfo.ZoneInfo(key='US/Central')), open=5143.25, high=5157.0, low=5141.25, close=5153.75, volume=-1.0, average=-1.0, barCount=-1)\n",
      "BarData(date=datetime.datetime(2024, 3, 4, 14, 0, tzinfo=zoneinfo.ZoneInfo(key='US/Central')), open=5153.75, high=5157.75, low=5137.0, close=5137.75, volume=-1.0, average=-1.0, barCount=-1)\n",
      "BarData(date=datetime.datetime(2024, 3, 4, 15, 0, tzinfo=zoneinfo.ZoneInfo(key='US/Central')), open=5137.75, high=5138.5, low=5133.25, close=5134.5, volume=-1.0, average=-1.0, barCount=-1)\n",
      "BarData(date=datetime.datetime(2024, 3, 5, 8, 30, tzinfo=zoneinfo.ZoneInfo(key='US/Central')), open=5116.75, high=5117.75, low=5107.25, close=5110.75, volume=-1.0, average=-1.0, barCount=-1)\n",
      "BarData(date=datetime.datetime(2024, 3, 5, 9, 0, tzinfo=zoneinfo.ZoneInfo(key='US/Central')), open=5110.75, high=5121.5, low=5089.0, close=5095.25, volume=-1.0, average=-1.0, barCount=-1)\n",
      "BarData(date=datetime.datetime(2024, 3, 5, 10, 0, tzinfo=zoneinfo.ZoneInfo(key='US/Central')), open=5095.25, high=5098.25, low=5083.25, close=5090.75, volume=-1.0, average=-1.0, barCount=-1)\n",
      "BarData(date=datetime.datetime(2024, 3, 5, 11, 0, tzinfo=zoneinfo.ZoneInfo(key='US/Central')), open=5090.75, high=5099.5, low=5089.25, close=5094.25, volume=-1.0, average=-1.0, barCount=-1)\n",
      "BarData(date=datetime.datetime(2024, 3, 5, 12, 0, tzinfo=zoneinfo.ZoneInfo(key='US/Central')), open=5094.25, high=5095.75, low=5080.5, close=5081.75, volume=-1.0, average=-1.0, barCount=-1)\n",
      "BarData(date=datetime.datetime(2024, 3, 5, 13, 0, tzinfo=zoneinfo.ZoneInfo(key='US/Central')), open=5081.75, high=5088.0, low=5069.5, close=5071.5, volume=-1.0, average=-1.0, barCount=-1)\n",
      "BarData(date=datetime.datetime(2024, 3, 5, 14, 0, tzinfo=zoneinfo.ZoneInfo(key='US/Central')), open=5071.5, high=5088.25, low=5063.0, close=5085.75, volume=-1.0, average=-1.0, barCount=-1)\n",
      "BarData(date=datetime.datetime(2024, 3, 5, 15, 0, tzinfo=zoneinfo.ZoneInfo(key='US/Central')), open=5085.75, high=5092.0, low=5085.25, close=5091.5, volume=-1.0, average=-1.0, barCount=-1)\n",
      "BarData(date=datetime.datetime(2024, 3, 6, 8, 30, tzinfo=zoneinfo.ZoneInfo(key='US/Central')), open=5119.5, high=5122.25, low=5109.75, close=5112.75, volume=-1.0, average=-1.0, barCount=-1)\n",
      "BarData(date=datetime.datetime(2024, 3, 6, 9, 0, tzinfo=zoneinfo.ZoneInfo(key='US/Central')), open=5112.75, high=5119.5, low=5097.5, close=5118.25, volume=-1.0, average=-1.0, barCount=-1)\n",
      "BarData(date=datetime.datetime(2024, 3, 6, 10, 0, tzinfo=zoneinfo.ZoneInfo(key='US/Central')), open=5118.25, high=5130.25, low=5118.0, close=5126.0, volume=-1.0, average=-1.0, barCount=-1)\n",
      "BarData(date=datetime.datetime(2024, 3, 6, 11, 0, tzinfo=zoneinfo.ZoneInfo(key='US/Central')), open=5126.0, high=5134.5, low=5124.25, close=5127.25, volume=-1.0, average=-1.0, barCount=-1)\n",
      "BarData(date=datetime.datetime(2024, 3, 6, 12, 0, tzinfo=zoneinfo.ZoneInfo(key='US/Central')), open=5127.25, high=5133.5, low=5104.75, close=5115.25, volume=-1.0, average=-1.0, barCount=-1)\n",
      "BarData(date=datetime.datetime(2024, 3, 6, 13, 0, tzinfo=zoneinfo.ZoneInfo(key='US/Central')), open=5115.25, high=5118.0, low=5098.5, close=5106.0, volume=-1.0, average=-1.0, barCount=-1)\n",
      "BarData(date=datetime.datetime(2024, 3, 6, 14, 0, tzinfo=zoneinfo.ZoneInfo(key='US/Central')), open=5106.0, high=5116.5, low=5099.0, close=5112.0, volume=-1.0, average=-1.0, barCount=-1)\n",
      "BarData(date=datetime.datetime(2024, 3, 6, 15, 0, tzinfo=zoneinfo.ZoneInfo(key='US/Central')), open=5112.0, high=5115.75, low=5110.5, close=5113.25, volume=-1.0, average=-1.0, barCount=-1)\n",
      "BarData(date=datetime.datetime(2024, 3, 7, 8, 30, tzinfo=zoneinfo.ZoneInfo(key='US/Central')), open=5143.0, high=5148.0, low=5133.25, close=5145.75, volume=-1.0, average=-1.0, barCount=-1)\n",
      "BarData(date=datetime.datetime(2024, 3, 7, 9, 0, tzinfo=zoneinfo.ZoneInfo(key='US/Central')), open=5145.75, high=5160.25, low=5141.25, close=5155.25, volume=-1.0, average=-1.0, barCount=-1)\n",
      "BarData(date=datetime.datetime(2024, 3, 7, 10, 0, tzinfo=zoneinfo.ZoneInfo(key='US/Central')), open=5155.25, high=5159.25, low=5149.0, close=5158.0, volume=-1.0, average=-1.0, barCount=-1)\n",
      "BarData(date=datetime.datetime(2024, 3, 7, 11, 0, tzinfo=zoneinfo.ZoneInfo(key='US/Central')), open=5158.0, high=5161.5, low=5151.75, close=5157.25, volume=-1.0, average=-1.0, barCount=-1)\n",
      "BarData(date=datetime.datetime(2024, 3, 7, 12, 0, tzinfo=zoneinfo.ZoneInfo(key='US/Central')), open=5157.25, high=5170.5, low=5153.75, close=5168.75, volume=-1.0, average=-1.0, barCount=-1)\n",
      "BarData(date=datetime.datetime(2024, 3, 7, 13, 0, tzinfo=zoneinfo.ZoneInfo(key='US/Central')), open=5168.75, high=5170.25, low=5159.0, close=5160.75, volume=-1.0, average=-1.0, barCount=-1)\n",
      "BarData(date=datetime.datetime(2024, 3, 7, 14, 0, tzinfo=zoneinfo.ZoneInfo(key='US/Central')), open=5160.75, high=5168.0, low=5152.0, close=5159.75, volume=-1.0, average=-1.0, barCount=-1)\n",
      "BarData(date=datetime.datetime(2024, 3, 7, 15, 0, tzinfo=zoneinfo.ZoneInfo(key='US/Central')), open=5159.75, high=5160.0, low=5143.75, close=5157.5, volume=-1.0, average=-1.0, barCount=-1)\n",
      "BarData(date=datetime.datetime(2024, 3, 8, 8, 30, tzinfo=zoneinfo.ZoneInfo(key='US/Central')), open=5165.25, high=5188.75, low=5163.25, close=5188.25, volume=-1.0, average=-1.0, barCount=-1)\n",
      "BarData(date=datetime.datetime(2024, 3, 8, 9, 0, tzinfo=zoneinfo.ZoneInfo(key='US/Central')), open=5188.25, high=5193.0, low=5180.0, close=5186.25, volume=-1.0, average=-1.0, barCount=-1)\n",
      "BarData(date=datetime.datetime(2024, 3, 8, 10, 0, tzinfo=zoneinfo.ZoneInfo(key='US/Central')), open=5186.25, high=5187.25, low=5149.75, close=5150.75, volume=-1.0, average=-1.0, barCount=-1)\n",
      "BarData(date=datetime.datetime(2024, 3, 8, 11, 0, tzinfo=zoneinfo.ZoneInfo(key='US/Central')), open=5150.75, high=5159.75, low=5133.5, close=5136.0, volume=-1.0, average=-1.0, barCount=-1)\n",
      "BarData(date=datetime.datetime(2024, 3, 8, 12, 0, tzinfo=zoneinfo.ZoneInfo(key='US/Central')), open=5136.0, high=5143.5, low=5121.75, close=5124.75, volume=-1.0, average=-1.0, barCount=-1)\n"
     ]
    }
   ],
   "source": [
    "from ib_insync import *\n",
    "\n",
    "# Assume 'ib' is already connected and is an instance of ib_insync.IB()\n",
    "# Also assume 'contract' has been created and is a valid ib_insync.Contract object\n",
    "\n",
    "# Use the asynchronous version of the method with await\n",
    "try:\n",
    "    historical_data = await ib.reqHistoricalDataAsync(\n",
    "        contract, endDateTime='', durationStr='30 D',\n",
    "        barSizeSetting='1 hour', whatToShow='MIDPOINT', useRTH=True\n",
    "    )\n",
    "    \n",
    "    # Proceed with the historical data\n",
    "    for bar in historical_data:\n",
    "        print(bar)\n",
    "except Exception as e:\n",
    "    print(f\"An error occurred: {e}\")\n"
   ]
  },
  {
   "cell_type": "code",
   "execution_count": 69,
   "id": "a0d65e6e",
   "metadata": {},
   "outputs": [
    {
     "name": "stdout",
     "output_type": "stream",
     "text": [
      "                         date     open     high      low    close  volume  \\\n",
      "0   2024-01-26 08:30:00-06:00  4918.50  4925.50  4914.75  4919.50    -1.0   \n",
      "1   2024-01-26 09:00:00-06:00  4919.50  4933.50  4912.75  4933.25    -1.0   \n",
      "2   2024-01-26 10:00:00-06:00  4933.25  4934.25  4923.50  4930.25    -1.0   \n",
      "3   2024-01-26 11:00:00-06:00  4930.25  4931.50  4909.00  4912.50    -1.0   \n",
      "4   2024-01-26 12:00:00-06:00  4912.50  4917.50  4907.50  4912.00    -1.0   \n",
      "..                        ...      ...      ...      ...      ...     ...   \n",
      "232 2024-03-08 08:30:00-06:00  5165.25  5188.75  5163.25  5188.25    -1.0   \n",
      "233 2024-03-08 09:00:00-06:00  5188.25  5193.00  5180.00  5186.25    -1.0   \n",
      "234 2024-03-08 10:00:00-06:00  5186.25  5187.25  5149.75  5150.75    -1.0   \n",
      "235 2024-03-08 11:00:00-06:00  5150.75  5159.75  5133.50  5136.00    -1.0   \n",
      "236 2024-03-08 12:00:00-06:00  5136.00  5143.50  5121.75  5124.75    -1.0   \n",
      "\n",
      "     average  barCount  \n",
      "0       -1.0        -1  \n",
      "1       -1.0        -1  \n",
      "2       -1.0        -1  \n",
      "3       -1.0        -1  \n",
      "4       -1.0        -1  \n",
      "..       ...       ...  \n",
      "232     -1.0        -1  \n",
      "233     -1.0        -1  \n",
      "234     -1.0        -1  \n",
      "235     -1.0        -1  \n",
      "236     -1.0        -1  \n",
      "\n",
      "[237 rows x 8 columns]\n"
     ]
    }
   ],
   "source": [
    "df = util.df(historical_data)\n",
    "print(df)"
   ]
  },
  {
   "cell_type": "code",
   "execution_count": 74,
   "id": "7eaf9fb5",
   "metadata": {},
   "outputs": [],
   "source": [
    "order = Order(action='SELL', totalQuantity=5, orderType='LMT', lmtPrice=5300)"
   ]
  },
  {
   "cell_type": "code",
   "execution_count": 75,
   "id": "f9790a44",
   "metadata": {},
   "outputs": [
    {
     "name": "stderr",
     "output_type": "stream",
     "text": [
      "Error 354, reqId 15: You are trying to submit an order without having market data for this instrument. IBKR strongly recommends against this kind of blind trading which may result in erroneous or unexpected trades. Restriction is specified in Precautionary Settings of Global Configuration/Presets.\n",
      "Canceled order: Trade(contract=Future(conId=533620665, symbol='ES', lastTradeDateOrContractMonth='20240315', multiplier='50', exchange='CME', currency='USD', localSymbol='ESH4', tradingClass='ES'), order=Order(orderId=15, clientId=1, action='SELL', totalQuantity=5, orderType='LMT', lmtPrice=5300), orderStatus=OrderStatus(orderId=15, status='Cancelled', filled=0.0, remaining=0.0, avgFillPrice=0.0, permId=0, parentId=0, lastFillPrice=0.0, clientId=0, whyHeld='', mktCapPrice=0.0), fills=[], log=[TradeLogEntry(time=datetime.datetime(2024, 3, 8, 19, 9, 44, 410450, tzinfo=datetime.timezone.utc), status='PendingSubmit', message='', errorCode=0), TradeLogEntry(time=datetime.datetime(2024, 3, 8, 19, 9, 44, 434097, tzinfo=datetime.timezone.utc), status='Cancelled', message='Error 354, reqId 15: You are trying to submit an order without having market data for this instrument. IBKR strongly recommends against this kind of blind trading which may result in erroneous or unexpected trades. Restriction is specified in Precautionary Settings of Global Configuration/Presets.', errorCode=354)], advancedError='')\n"
     ]
    }
   ],
   "source": [
    "trade = ib.placeOrder(contract, order)"
   ]
  },
  {
   "cell_type": "code",
   "execution_count": 79,
   "id": "88e729c2",
   "metadata": {},
   "outputs": [
    {
     "name": "stderr",
     "output_type": "stream",
     "text": [
      "Error 354, reqId 19: You are trying to submit an order without having market data for this instrument. IBKR strongly recommends against this kind of blind trading which may result in erroneous or unexpected trades. Restriction is specified in Precautionary Settings of Global Configuration/Presets.\n",
      "Canceled order: Trade(contract=Future(conId=533620665, symbol='ES', lastTradeDateOrContractMonth='20240315', multiplier='50', exchange='CME', currency='USD', localSymbol='ESH4', tradingClass='ES'), order=Order(orderId=19, clientId=1, action='BUY', totalQuantity=1, orderType='LMT', lmtPrice=5140), orderStatus=OrderStatus(orderId=19, status='Cancelled', filled=0.0, remaining=0.0, avgFillPrice=0.0, permId=0, parentId=0, lastFillPrice=0.0, clientId=0, whyHeld='', mktCapPrice=0.0), fills=[], log=[TradeLogEntry(time=datetime.datetime(2024, 3, 8, 19, 34, 37, 144366, tzinfo=datetime.timezone.utc), status='PendingSubmit', message='', errorCode=0), TradeLogEntry(time=datetime.datetime(2024, 3, 8, 19, 34, 37, 186370, tzinfo=datetime.timezone.utc), status='Cancelled', message='Error 354, reqId 19: You are trying to submit an order without having market data for this instrument. IBKR strongly recommends against this kind of blind trading which may result in erroneous or unexpected trades. Restriction is specified in Precautionary Settings of Global Configuration/Presets.', errorCode=354)], advancedError='')\n",
      "Error 1100, reqId -1: Connectivity between IBKR and Trader Workstation has been lost.\n",
      "Error 1102, reqId -1: Connectivity between IBKR and Trader Workstation has been restored - data maintained. All data farms are connected: usfarm.nj; usfuture; cashfarm; usfarm; ushmds; secdefil.\n",
      "Error 1100, reqId -1: Connectivity between IBKR and Trader Workstation has been lost.\n",
      "Error 1100, reqId -1: Connectivity between IBKR and Trader Workstation has been lost.\n",
      "Error 1100, reqId -1: Connectivity between IBKR and Trader Workstation has been lost.\n",
      "Error 1102, reqId -1: Connectivity between IBKR and Trader Workstation has been restored - data maintained. All data farms are connected: usfarm.nj; usfuture; cashfarm; usfarm; ushmds; secdefil.\n",
      "Error 1100, reqId -1: Connectivity between IBKR and Trader Workstation has been lost.\n",
      "Error 1102, reqId -1: Connectivity between IBKR and Trader Workstation has been restored - data maintained. All data farms are connected: usfarm.nj; usfuture; cashfarm; usfarm; ushmds; secdefil.\n",
      "Error 1100, reqId -1: Connectivity between IBKR and Trader Workstation has been lost.\n",
      "Error 1102, reqId -1: Connectivity between IBKR and Trader Workstation has been restored - data maintained. All data farms are connected: usfarm.nj; usfuture; cashfarm; usfarm; ushmds; secdefil.\n",
      "Error 1100, reqId -1: Connectivity between IBKR and Trader Workstation has been lost.\n",
      "Error 1102, reqId -1: Connectivity between IBKR and Trader Workstation has been restored - data maintained. All data farms are connected: usfarm.nj; usfuture; cashfarm; usfarm; ushmds; secdefil.\n",
      "Error 1100, reqId -1: Connectivity between IBKR and Trader Workstation has been lost.\n",
      "Error 1102, reqId -1: Connectivity between IBKR and Trader Workstation has been restored - data maintained. All data farms are connected: usfarm.nj; usfuture; cashfarm; usfarm; ushmds; secdefil.\n"
     ]
    }
   ],
   "source": [
    "order = Order(action='BUY', totalQuantity=1, orderType='LMT', lmtPrice=5140)\n",
    "trade = ib.placeOrder(contract, order)"
   ]
  },
  {
   "cell_type": "code",
   "execution_count": 76,
   "id": "241072c7",
   "metadata": {},
   "outputs": [
    {
     "name": "stdout",
     "output_type": "stream",
     "text": [
      "Account Balance: 951328.50\n"
     ]
    },
    {
     "name": "stderr",
     "output_type": "stream",
     "text": [
      "Error 201, reqId 14: Order rejected - reason:The Available Funds in your Commodities segment are insufficient to cover the change in the margin<br>requirements in your Commodities segment should this order execute. In order to obtain the desired position,<br>your Commodities Net Liquidation Value [951092.25 USD] must exceed the new total initial Margin of [987185.37<br>USD]. Review the FAQ:<a href=\"https://prod.ibkr-web.com/ibconfluence/pages/viewpage.action?pageId=30122600\"> Why does the credit check for my futures order say I do not have enough funds in my Net<br>Liquidation Value?</a>\n",
      "Canceled order: Trade(contract=Future(conId=533620665, symbol='ES', lastTradeDateOrContractMonth='20240315', multiplier='50', exchange='CME', currency='USD', localSymbol='ESH4', tradingClass='ES'), order=Order(orderId=14, clientId=1, permId=1777033502, action='SELL', totalQuantity=100.0, orderType='LMT', lmtPrice=5300.0, auxPrice=0.0), orderStatus=OrderStatus(orderId=14, status='Cancelled', filled=0.0, remaining=100.0, avgFillPrice=0.0, permId=1777033502, parentId=0, lastFillPrice=0.0, clientId=1, whyHeld='', mktCapPrice=0.0), fills=[], log=[TradeLogEntry(time=datetime.datetime(2024, 3, 8, 19, 8, 3, 729170, tzinfo=datetime.timezone.utc), status='PendingSubmit', message='', errorCode=0), TradeLogEntry(time=datetime.datetime(2024, 3, 8, 19, 8, 3, 751394, tzinfo=datetime.timezone.utc), status='Cancelled', message='Error 383, reqId 14: The following order \"ID:14\" size exceeds the Size Limit of 5. Restriction is specified in Precautionary Settings of Global Configuration/Presets.', errorCode=383), TradeLogEntry(time=datetime.datetime(2024, 3, 8, 19, 13, 6, 867257, tzinfo=datetime.timezone.utc), status='Inactive', message='', errorCode=0), TradeLogEntry(time=datetime.datetime(2024, 3, 8, 19, 13, 6, 903022, tzinfo=datetime.timezone.utc), status='Cancelled', message='Error 201, reqId 14: Order rejected - reason:The Available Funds in your Commodities segment are insufficient to cover the change in the margin<br>requirements in your Commodities segment should this order execute. In order to obtain the desired position,<br>your Commodities Net Liquidation Value [951092.25 USD] must exceed the new total initial Margin of [987185.37<br>USD]. Review the FAQ:<a href=\"https://prod.ibkr-web.com/ibconfluence/pages/viewpage.action?pageId=30122600\"> Why does the credit check for my futures order say I do not have enough funds in my Net<br>Liquidation Value?</a>', errorCode=201)], advancedError='')\n"
     ]
    }
   ],
   "source": [
    "from ib_insync import *\n",
    "\n",
    "# Assuming 'ib' is already connected and is an instance of ib_insync.IB()\n",
    "\n",
    "# Use the asynchronous version of the accountSummary function with await\n",
    "account_summary = await ib.accountSummaryAsync()\n",
    "\n",
    "# Find the total cash balance\n",
    "balance = next((item for item in account_summary if item.tag == 'TotalCashBalance'), None)\n",
    "print(\"Account Balance:\", balance.value if balance else \"No balance found\")\n"
   ]
  },
  {
   "cell_type": "code",
   "execution_count": 60,
   "id": "504b6ca3",
   "metadata": {},
   "outputs": [
    {
     "name": "stderr",
     "output_type": "stream",
     "text": [
      "Task exception was never retrieved\n",
      "future: <Task finished name='Task-97' coro=<IB.connectAsync() done, defined at /Library/Frameworks/Python.framework/Versions/3.9/lib/python3.9/site-packages/ib_insync/ib.py:1739> exception=TimeoutError()>\n",
      "Traceback (most recent call last):\n",
      "  File \"/Library/Frameworks/Python.framework/Versions/3.9/lib/python3.9/asyncio/tasks.py\", line 690, in _wrap_awaitable\n",
      "    return (yield from awaitable.__await__())\n",
      "asyncio.exceptions.CancelledError\n",
      "\n",
      "During handling of the above exception, another exception occurred:\n",
      "\n",
      "Traceback (most recent call last):\n",
      "  File \"/Library/Frameworks/Python.framework/Versions/3.9/lib/python3.9/asyncio/tasks.py\", line 492, in wait_for\n",
      "    fut.result()\n",
      "asyncio.exceptions.CancelledError\n",
      "\n",
      "The above exception was the direct cause of the following exception:\n",
      "\n",
      "Traceback (most recent call last):\n",
      "  File \"/Library/Frameworks/Python.framework/Versions/3.9/lib/python3.9/site-packages/ib_insync/ib.py\", line 1748, in connectAsync\n",
      "    await self.client.connectAsync(host, port, clientId, timeout)\n",
      "  File \"/Library/Frameworks/Python.framework/Versions/3.9/lib/python3.9/site-packages/ib_insync/client.py\", line 217, in connectAsync\n",
      "    await asyncio.wait_for(self.apiStart, timeout)\n",
      "  File \"/Library/Frameworks/Python.framework/Versions/3.9/lib/python3.9/asyncio/tasks.py\", line 494, in wait_for\n",
      "    raise exceptions.TimeoutError() from exc\n",
      "asyncio.exceptions.TimeoutError\n"
     ]
    },
    {
     "ename": "HTTPError",
     "evalue": "403 Client Error: Forbidden for url: https://data.alpaca.markets/v2/stocks/AAPL/bars?timeframe=1Day&adjustment=raw&limit=10",
     "output_type": "error",
     "traceback": [
      "\u001b[0;31m---------------------------------------------------------------------------\u001b[0m",
      "\u001b[0;31mHTTPError\u001b[0m                                 Traceback (most recent call last)",
      "Cell \u001b[0;32mIn[60], line 12\u001b[0m\n\u001b[1;32m      9\u001b[0m api \u001b[38;5;241m=\u001b[39m tradeapi\u001b[38;5;241m.\u001b[39mREST(API_KEY, API_SECRET, base_url\u001b[38;5;241m=\u001b[39mBASE_URL, api_version\u001b[38;5;241m=\u001b[39m\u001b[38;5;124m'\u001b[39m\u001b[38;5;124mv2\u001b[39m\u001b[38;5;124m'\u001b[39m)\n\u001b[1;32m     11\u001b[0m \u001b[38;5;66;03m# Get stock data using get_bars instead of get_barset\u001b[39;00m\n\u001b[0;32m---> 12\u001b[0m bars \u001b[38;5;241m=\u001b[39m \u001b[43mapi\u001b[49m\u001b[38;5;241;43m.\u001b[39;49m\u001b[43mget_bars\u001b[49m\u001b[43m(\u001b[49m\u001b[38;5;124;43m'\u001b[39;49m\u001b[38;5;124;43mAAPL\u001b[39;49m\u001b[38;5;124;43m'\u001b[39;49m\u001b[43m,\u001b[49m\u001b[43m \u001b[49m\u001b[43mtradeapi\u001b[49m\u001b[38;5;241;43m.\u001b[39;49m\u001b[43mTimeFrame\u001b[49m\u001b[38;5;241;43m.\u001b[39;49m\u001b[43mDay\u001b[49m\u001b[43m,\u001b[49m\u001b[43m \u001b[49m\u001b[43mlimit\u001b[49m\u001b[38;5;241;43m=\u001b[39;49m\u001b[38;5;241;43m10\u001b[39;49m\u001b[43m)\u001b[49m\u001b[38;5;241m.\u001b[39mdf\n\u001b[1;32m     13\u001b[0m \u001b[38;5;28;01mfor\u001b[39;00m index, row \u001b[38;5;129;01min\u001b[39;00m bars\u001b[38;5;241m.\u001b[39miterrows():\n\u001b[1;32m     14\u001b[0m     \u001b[38;5;28mprint\u001b[39m(index, row[\u001b[38;5;124m'\u001b[39m\u001b[38;5;124mopen\u001b[39m\u001b[38;5;124m'\u001b[39m], row[\u001b[38;5;124m'\u001b[39m\u001b[38;5;124mhigh\u001b[39m\u001b[38;5;124m'\u001b[39m], row[\u001b[38;5;124m'\u001b[39m\u001b[38;5;124mlow\u001b[39m\u001b[38;5;124m'\u001b[39m], row[\u001b[38;5;124m'\u001b[39m\u001b[38;5;124mclose\u001b[39m\u001b[38;5;124m'\u001b[39m], row[\u001b[38;5;124m'\u001b[39m\u001b[38;5;124mvolume\u001b[39m\u001b[38;5;124m'\u001b[39m])\n",
      "File \u001b[0;32m/Library/Frameworks/Python.framework/Versions/3.9/lib/python3.9/site-packages/alpaca_trade_api/rest.py:735\u001b[0m, in \u001b[0;36mREST.get_bars\u001b[0;34m(self, symbol, timeframe, start, end, adjustment, limit, feed, asof, sort)\u001b[0m\n\u001b[1;32m    724\u001b[0m \u001b[38;5;28;01mdef\u001b[39;00m \u001b[38;5;21mget_bars\u001b[39m(\u001b[38;5;28mself\u001b[39m,\n\u001b[1;32m    725\u001b[0m              symbol: Union[\u001b[38;5;28mstr\u001b[39m, List[\u001b[38;5;28mstr\u001b[39m]],\n\u001b[1;32m    726\u001b[0m              timeframe: TimeFrame,\n\u001b[0;32m   (...)\u001b[0m\n\u001b[1;32m    733\u001b[0m              sort: Optional[Sort] \u001b[38;5;241m=\u001b[39m \u001b[38;5;28;01mNone\u001b[39;00m,\n\u001b[1;32m    734\u001b[0m              ) \u001b[38;5;241m-\u001b[39m\u001b[38;5;241m>\u001b[39m BarsV2:\n\u001b[0;32m--> 735\u001b[0m     bars \u001b[38;5;241m=\u001b[39m \u001b[38;5;28;43mlist\u001b[39;49m\u001b[43m(\u001b[49m\u001b[38;5;28;43mself\u001b[39;49m\u001b[38;5;241;43m.\u001b[39;49m\u001b[43mget_bars_iter\u001b[49m\u001b[43m(\u001b[49m\u001b[43msymbol\u001b[49m\u001b[43m,\u001b[49m\n\u001b[1;32m    736\u001b[0m \u001b[43m                                   \u001b[49m\u001b[43mtimeframe\u001b[49m\u001b[43m,\u001b[49m\n\u001b[1;32m    737\u001b[0m \u001b[43m                                   \u001b[49m\u001b[43mstart\u001b[49m\u001b[43m,\u001b[49m\n\u001b[1;32m    738\u001b[0m \u001b[43m                                   \u001b[49m\u001b[43mend\u001b[49m\u001b[43m,\u001b[49m\n\u001b[1;32m    739\u001b[0m \u001b[43m                                   \u001b[49m\u001b[43madjustment\u001b[49m\u001b[43m,\u001b[49m\n\u001b[1;32m    740\u001b[0m \u001b[43m                                   \u001b[49m\u001b[43mlimit\u001b[49m\u001b[43m,\u001b[49m\n\u001b[1;32m    741\u001b[0m \u001b[43m                                   \u001b[49m\u001b[43mfeed\u001b[49m\u001b[38;5;241;43m=\u001b[39;49m\u001b[43mfeed\u001b[49m\u001b[43m,\u001b[49m\n\u001b[1;32m    742\u001b[0m \u001b[43m                                   \u001b[49m\u001b[43masof\u001b[49m\u001b[38;5;241;43m=\u001b[39;49m\u001b[43masof\u001b[49m\u001b[43m,\u001b[49m\n\u001b[1;32m    743\u001b[0m \u001b[43m                                   \u001b[49m\u001b[43msort\u001b[49m\u001b[38;5;241;43m=\u001b[39;49m\u001b[43msort\u001b[49m\u001b[43m,\u001b[49m\n\u001b[1;32m    744\u001b[0m \u001b[43m                                   \u001b[49m\u001b[43mraw\u001b[49m\u001b[38;5;241;43m=\u001b[39;49m\u001b[38;5;28;43;01mTrue\u001b[39;49;00m\u001b[43m)\u001b[49m\u001b[43m)\u001b[49m\n\u001b[1;32m    745\u001b[0m     \u001b[38;5;28;01mreturn\u001b[39;00m BarsV2(bars)\n",
      "File \u001b[0;32m/Library/Frameworks/Python.framework/Versions/3.9/lib/python3.9/site-packages/alpaca_trade_api/rest.py:718\u001b[0m, in \u001b[0;36mREST.get_bars_iter\u001b[0;34m(self, symbol, timeframe, start, end, adjustment, limit, feed, asof, sort, raw)\u001b[0m\n\u001b[1;32m    697\u001b[0m \u001b[38;5;28;01mdef\u001b[39;00m \u001b[38;5;21mget_bars_iter\u001b[39m(\u001b[38;5;28mself\u001b[39m,\n\u001b[1;32m    698\u001b[0m                   symbol: Union[\u001b[38;5;28mstr\u001b[39m, List[\u001b[38;5;28mstr\u001b[39m]],\n\u001b[1;32m    699\u001b[0m                   timeframe: TimeFrame,\n\u001b[0;32m   (...)\u001b[0m\n\u001b[1;32m    706\u001b[0m                   sort: Optional[Sort] \u001b[38;5;241m=\u001b[39m \u001b[38;5;28;01mNone\u001b[39;00m,\n\u001b[1;32m    707\u001b[0m                   raw\u001b[38;5;241m=\u001b[39m\u001b[38;5;28;01mFalse\u001b[39;00m) \u001b[38;5;241m-\u001b[39m\u001b[38;5;241m>\u001b[39m BarIterator:\n\u001b[1;32m    708\u001b[0m     bars \u001b[38;5;241m=\u001b[39m \u001b[38;5;28mself\u001b[39m\u001b[38;5;241m.\u001b[39m_data_get(\u001b[38;5;124m'\u001b[39m\u001b[38;5;124mbars\u001b[39m\u001b[38;5;124m'\u001b[39m, symbol,\n\u001b[1;32m    709\u001b[0m                           timeframe\u001b[38;5;241m=\u001b[39mtimeframe,\n\u001b[1;32m    710\u001b[0m                           adjustment\u001b[38;5;241m=\u001b[39madjustment,\n\u001b[0;32m   (...)\u001b[0m\n\u001b[1;32m    716\u001b[0m                           sort\u001b[38;5;241m=\u001b[39msort,\n\u001b[1;32m    717\u001b[0m                           )\n\u001b[0;32m--> 718\u001b[0m     \u001b[38;5;28;01mfor\u001b[39;00m bar \u001b[38;5;129;01min\u001b[39;00m bars:\n\u001b[1;32m    719\u001b[0m         \u001b[38;5;28;01mif\u001b[39;00m raw:\n\u001b[1;32m    720\u001b[0m             \u001b[38;5;28;01myield\u001b[39;00m bar\n",
      "File \u001b[0;32m/Library/Frameworks/Python.framework/Versions/3.9/lib/python3.9/site-packages/alpaca_trade_api/rest.py:594\u001b[0m, in \u001b[0;36mREST._data_get\u001b[0;34m(self, endpoint, symbol_or_symbols, api_version, endpoint_base, resp_grouped_by_symbol, page_limit, feed, asof, loc, **kwargs)\u001b[0m\n\u001b[1;32m    592\u001b[0m \u001b[38;5;28;01mif\u001b[39;00m endpoint:\n\u001b[1;32m    593\u001b[0m     path \u001b[38;5;241m+\u001b[39m\u001b[38;5;241m=\u001b[39m \u001b[38;5;124mf\u001b[39m\u001b[38;5;124m'\u001b[39m\u001b[38;5;124m/\u001b[39m\u001b[38;5;132;01m{\u001b[39;00mendpoint\u001b[38;5;132;01m}\u001b[39;00m\u001b[38;5;124m'\u001b[39m\n\u001b[0;32m--> 594\u001b[0m resp \u001b[38;5;241m=\u001b[39m \u001b[38;5;28;43mself\u001b[39;49m\u001b[38;5;241;43m.\u001b[39;49m\u001b[43mdata_get\u001b[49m\u001b[43m(\u001b[49m\u001b[43mpath\u001b[49m\u001b[43m,\u001b[49m\u001b[43m \u001b[49m\u001b[43mdata\u001b[49m\u001b[38;5;241;43m=\u001b[39;49m\u001b[43mdata\u001b[49m\u001b[43m,\u001b[49m\u001b[43m \u001b[49m\u001b[43mfeed\u001b[49m\u001b[38;5;241;43m=\u001b[39;49m\u001b[43mfeed\u001b[49m\u001b[43m,\u001b[49m\n\u001b[1;32m    595\u001b[0m \u001b[43m                     \u001b[49m\u001b[43mapi_version\u001b[49m\u001b[38;5;241;43m=\u001b[39;49m\u001b[43mapi_version\u001b[49m\u001b[43m)\u001b[49m\n\u001b[1;32m    596\u001b[0m \u001b[38;5;28;01mif\u001b[39;00m \u001b[38;5;129;01mnot\u001b[39;00m resp_grouped_by_symbol:\n\u001b[1;32m    597\u001b[0m     k \u001b[38;5;241m=\u001b[39m endpoint \u001b[38;5;129;01mor\u001b[39;00m endpoint_base\n",
      "File \u001b[0;32m/Library/Frameworks/Python.framework/Versions/3.9/lib/python3.9/site-packages/alpaca_trade_api/rest.py:274\u001b[0m, in \u001b[0;36mREST.data_get\u001b[0;34m(self, path, data, feed, api_version)\u001b[0m\n\u001b[1;32m    272\u001b[0m     data \u001b[38;5;241m=\u001b[39m data \u001b[38;5;129;01mor\u001b[39;00m {}\n\u001b[1;32m    273\u001b[0m     data[\u001b[38;5;124m'\u001b[39m\u001b[38;5;124mfeed\u001b[39m\u001b[38;5;124m'\u001b[39m] \u001b[38;5;241m=\u001b[39m feed\n\u001b[0;32m--> 274\u001b[0m \u001b[38;5;28;01mreturn\u001b[39;00m \u001b[38;5;28;43mself\u001b[39;49m\u001b[38;5;241;43m.\u001b[39;49m\u001b[43m_request\u001b[49m\u001b[43m(\u001b[49m\n\u001b[1;32m    275\u001b[0m \u001b[43m    \u001b[49m\u001b[38;5;124;43m'\u001b[39;49m\u001b[38;5;124;43mGET\u001b[39;49m\u001b[38;5;124;43m'\u001b[39;49m\u001b[43m,\u001b[49m\u001b[43m \u001b[49m\u001b[43mpath\u001b[49m\u001b[43m,\u001b[49m\u001b[43m \u001b[49m\u001b[43mdata\u001b[49m\u001b[43m,\u001b[49m\u001b[43m \u001b[49m\u001b[43mbase_url\u001b[49m\u001b[38;5;241;43m=\u001b[39;49m\u001b[43mbase_url\u001b[49m\u001b[43m,\u001b[49m\u001b[43m \u001b[49m\u001b[43mapi_version\u001b[49m\u001b[38;5;241;43m=\u001b[39;49m\u001b[43mapi_version\u001b[49m\u001b[43m,\u001b[49m\n\u001b[1;32m    276\u001b[0m \u001b[43m\u001b[49m\u001b[43m)\u001b[49m\n",
      "File \u001b[0;32m/Library/Frameworks/Python.framework/Versions/3.9/lib/python3.9/site-packages/alpaca_trade_api/rest.py:222\u001b[0m, in \u001b[0;36mREST._request\u001b[0;34m(self, method, path, data, base_url, api_version)\u001b[0m\n\u001b[1;32m    220\u001b[0m \u001b[38;5;28;01mwhile\u001b[39;00m retry \u001b[38;5;241m>\u001b[39m\u001b[38;5;241m=\u001b[39m \u001b[38;5;241m0\u001b[39m:\n\u001b[1;32m    221\u001b[0m     \u001b[38;5;28;01mtry\u001b[39;00m:\n\u001b[0;32m--> 222\u001b[0m         \u001b[38;5;28;01mreturn\u001b[39;00m \u001b[38;5;28;43mself\u001b[39;49m\u001b[38;5;241;43m.\u001b[39;49m\u001b[43m_one_request\u001b[49m\u001b[43m(\u001b[49m\u001b[43mmethod\u001b[49m\u001b[43m,\u001b[49m\u001b[43m \u001b[49m\u001b[43murl\u001b[49m\u001b[43m,\u001b[49m\u001b[43m \u001b[49m\u001b[43mopts\u001b[49m\u001b[43m,\u001b[49m\u001b[43m \u001b[49m\u001b[43mretry\u001b[49m\u001b[43m)\u001b[49m\n\u001b[1;32m    223\u001b[0m     \u001b[38;5;28;01mexcept\u001b[39;00m RetryException:\n\u001b[1;32m    224\u001b[0m         retry_wait \u001b[38;5;241m=\u001b[39m \u001b[38;5;28mself\u001b[39m\u001b[38;5;241m.\u001b[39m_retry_wait\n",
      "File \u001b[0;32m/Library/Frameworks/Python.framework/Versions/3.9/lib/python3.9/site-packages/alpaca_trade_api/rest.py:248\u001b[0m, in \u001b[0;36mREST._one_request\u001b[0;34m(self, method, url, opts, retry)\u001b[0m\n\u001b[1;32m    246\u001b[0m     \u001b[38;5;28;01mif\u001b[39;00m resp\u001b[38;5;241m.\u001b[39mstatus_code \u001b[38;5;129;01min\u001b[39;00m retry_codes \u001b[38;5;129;01mand\u001b[39;00m retry \u001b[38;5;241m>\u001b[39m \u001b[38;5;241m0\u001b[39m:\n\u001b[1;32m    247\u001b[0m         \u001b[38;5;28;01mraise\u001b[39;00m RetryException()\n\u001b[0;32m--> 248\u001b[0m     \u001b[43mraise_api_error\u001b[49m\u001b[43m(\u001b[49m\u001b[43mresp\u001b[49m\u001b[43m,\u001b[49m\u001b[43m \u001b[49m\u001b[43mhttp_error\u001b[49m\u001b[43m)\u001b[49m\n\u001b[1;32m    249\u001b[0m \u001b[38;5;28;01mif\u001b[39;00m resp\u001b[38;5;241m.\u001b[39mtext \u001b[38;5;241m!=\u001b[39m \u001b[38;5;124m'\u001b[39m\u001b[38;5;124m'\u001b[39m:\n\u001b[1;32m    250\u001b[0m     \u001b[38;5;28;01mreturn\u001b[39;00m resp\u001b[38;5;241m.\u001b[39mjson()\n",
      "File \u001b[0;32m/Library/Frameworks/Python.framework/Versions/3.9/lib/python3.9/site-packages/alpaca_trade_api/rest.py:81\u001b[0m, in \u001b[0;36mraise_api_error\u001b[0;34m(resp, http_error)\u001b[0m\n\u001b[1;32m     79\u001b[0m     error \u001b[38;5;241m=\u001b[39m resp\u001b[38;5;241m.\u001b[39mjson()\n\u001b[1;32m     80\u001b[0m \u001b[38;5;28;01mexcept\u001b[39;00m:\n\u001b[0;32m---> 81\u001b[0m     \u001b[38;5;28;01mraise\u001b[39;00m http_error \u001b[38;5;28;01mfrom\u001b[39;00m \u001b[38;5;28;01mNone\u001b[39;00m\n\u001b[1;32m     82\u001b[0m \u001b[38;5;28;01mif\u001b[39;00m \u001b[38;5;124m'\u001b[39m\u001b[38;5;124mmessage\u001b[39m\u001b[38;5;124m'\u001b[39m \u001b[38;5;129;01min\u001b[39;00m error:\n\u001b[1;32m     83\u001b[0m     \u001b[38;5;28;01mraise\u001b[39;00m APIError(error, http_error) \u001b[38;5;28;01mfrom\u001b[39;00m \u001b[38;5;28;01mNone\u001b[39;00m\n",
      "File \u001b[0;32m/Library/Frameworks/Python.framework/Versions/3.9/lib/python3.9/site-packages/alpaca_trade_api/rest.py:243\u001b[0m, in \u001b[0;36mREST._one_request\u001b[0;34m(self, method, url, opts, retry)\u001b[0m\n\u001b[1;32m    241\u001b[0m resp \u001b[38;5;241m=\u001b[39m \u001b[38;5;28mself\u001b[39m\u001b[38;5;241m.\u001b[39m_session\u001b[38;5;241m.\u001b[39mrequest(method, url, \u001b[38;5;241m*\u001b[39m\u001b[38;5;241m*\u001b[39mopts)\n\u001b[1;32m    242\u001b[0m \u001b[38;5;28;01mtry\u001b[39;00m:\n\u001b[0;32m--> 243\u001b[0m     \u001b[43mresp\u001b[49m\u001b[38;5;241;43m.\u001b[39;49m\u001b[43mraise_for_status\u001b[49m\u001b[43m(\u001b[49m\u001b[43m)\u001b[49m\n\u001b[1;32m    244\u001b[0m \u001b[38;5;28;01mexcept\u001b[39;00m HTTPError \u001b[38;5;28;01mas\u001b[39;00m http_error:\n\u001b[1;32m    245\u001b[0m     \u001b[38;5;66;03m# retry if we hit Rate Limit\u001b[39;00m\n\u001b[1;32m    246\u001b[0m     \u001b[38;5;28;01mif\u001b[39;00m resp\u001b[38;5;241m.\u001b[39mstatus_code \u001b[38;5;129;01min\u001b[39;00m retry_codes \u001b[38;5;129;01mand\u001b[39;00m retry \u001b[38;5;241m>\u001b[39m \u001b[38;5;241m0\u001b[39m:\n",
      "File \u001b[0;32m/Library/Frameworks/Python.framework/Versions/3.9/lib/python3.9/site-packages/requests/models.py:1021\u001b[0m, in \u001b[0;36mResponse.raise_for_status\u001b[0;34m(self)\u001b[0m\n\u001b[1;32m   1016\u001b[0m     http_error_msg \u001b[38;5;241m=\u001b[39m (\n\u001b[1;32m   1017\u001b[0m         \u001b[38;5;124mf\u001b[39m\u001b[38;5;124m\"\u001b[39m\u001b[38;5;132;01m{\u001b[39;00m\u001b[38;5;28mself\u001b[39m\u001b[38;5;241m.\u001b[39mstatus_code\u001b[38;5;132;01m}\u001b[39;00m\u001b[38;5;124m Server Error: \u001b[39m\u001b[38;5;132;01m{\u001b[39;00mreason\u001b[38;5;132;01m}\u001b[39;00m\u001b[38;5;124m for url: \u001b[39m\u001b[38;5;132;01m{\u001b[39;00m\u001b[38;5;28mself\u001b[39m\u001b[38;5;241m.\u001b[39murl\u001b[38;5;132;01m}\u001b[39;00m\u001b[38;5;124m\"\u001b[39m\n\u001b[1;32m   1018\u001b[0m     )\n\u001b[1;32m   1020\u001b[0m \u001b[38;5;28;01mif\u001b[39;00m http_error_msg:\n\u001b[0;32m-> 1021\u001b[0m     \u001b[38;5;28;01mraise\u001b[39;00m HTTPError(http_error_msg, response\u001b[38;5;241m=\u001b[39m\u001b[38;5;28mself\u001b[39m)\n",
      "\u001b[0;31mHTTPError\u001b[0m: 403 Client Error: Forbidden for url: https://data.alpaca.markets/v2/stocks/AAPL/bars?timeframe=1Day&adjustment=raw&limit=10"
     ]
    }
   ],
   "source": [
    "import alpaca_trade_api as tradeapi\n",
    "\n",
    "# Set your API key and secret\n",
    "API_KEY = 'your_api_key'\n",
    "API_SECRET = 'your_api_secret'\n",
    "BASE_URL = 'https://paper-api.alpaca.markets'\n",
    "\n",
    "# Initialize the API connection\n",
    "api = tradeapi.REST(API_KEY, API_SECRET, base_url=BASE_URL, api_version='v2')\n",
    "\n",
    "# Get stock data using get_bars instead of get_barset\n",
    "bars = api.get_bars('AAPL', tradeapi.TimeFrame.Day, limit=10).df\n",
    "for index, row in bars.iterrows():\n",
    "    print(index, row['open'], row['high'], row['low'], row['close'], row['volume'])\n"
   ]
  },
  {
   "cell_type": "code",
   "execution_count": 58,
   "id": "b1278ab1",
   "metadata": {},
   "outputs": [
    {
     "name": "stdout",
     "output_type": "stream",
     "text": [
      "Collecting alpaca-trade-api\n",
      "  Obtaining dependency information for alpaca-trade-api from https://files.pythonhosted.org/packages/0b/b2/4557d0a4c837b020bc5c8971e8fde8b976e332d5c225476699e0b5e30b41/alpaca_trade_api-3.2.0-py3-none-any.whl.metadata\n",
      "  Downloading alpaca_trade_api-3.2.0-py3-none-any.whl.metadata (29 kB)\n",
      "Requirement already satisfied: pandas>=0.18.1 in /Library/Frameworks/Python.framework/Versions/3.9/lib/python3.9/site-packages (from alpaca-trade-api) (2.0.2)\n",
      "Requirement already satisfied: numpy>=1.11.1 in /Library/Frameworks/Python.framework/Versions/3.9/lib/python3.9/site-packages (from alpaca-trade-api) (1.22.2)\n",
      "Requirement already satisfied: requests<3,>2 in /Library/Frameworks/Python.framework/Versions/3.9/lib/python3.9/site-packages (from alpaca-trade-api) (2.31.0)\n",
      "Requirement already satisfied: urllib3<2,>1.24 in /Library/Frameworks/Python.framework/Versions/3.9/lib/python3.9/site-packages (from alpaca-trade-api) (1.26.16)\n",
      "Requirement already satisfied: websocket-client<2,>=0.56.0 in /Library/Frameworks/Python.framework/Versions/3.9/lib/python3.9/site-packages (from alpaca-trade-api) (1.5.3)\n",
      "Collecting websockets<11,>=9.0 (from alpaca-trade-api)\n",
      "  Obtaining dependency information for websockets<11,>=9.0 from https://files.pythonhosted.org/packages/47/4d/f2e28f112302d3bc794b74ae64656255161d8223f4d47bd17d40cbb3629e/websockets-10.4-cp39-cp39-macosx_10_9_x86_64.whl.metadata\n",
      "  Downloading websockets-10.4-cp39-cp39-macosx_10_9_x86_64.whl.metadata (6.4 kB)\n",
      "Collecting msgpack==1.0.3 (from alpaca-trade-api)\n",
      "  Obtaining dependency information for msgpack==1.0.3 from https://files.pythonhosted.org/packages/3a/57/c90cb0b1ab68650ff0068240449bc17c269069bd898cf283dc8db72e8788/msgpack-1.0.3-cp39-cp39-macosx_10_9_x86_64.whl.metadata\n",
      "  Downloading msgpack-1.0.3-cp39-cp39-macosx_10_9_x86_64.whl.metadata (8.7 kB)\n",
      "Collecting aiohttp<4,>=3.8.3 (from alpaca-trade-api)\n",
      "  Obtaining dependency information for aiohttp<4,>=3.8.3 from https://files.pythonhosted.org/packages/20/1c/b7e668a1583cbb1e5060b45baee68a50123f66470ac463f81f7e3b3c3bab/aiohttp-3.9.3-cp39-cp39-macosx_10_9_x86_64.whl.metadata\n",
      "  Downloading aiohttp-3.9.3-cp39-cp39-macosx_10_9_x86_64.whl.metadata (7.4 kB)\n",
      "Collecting PyYAML==6.0.1 (from alpaca-trade-api)\n",
      "  Obtaining dependency information for PyYAML==6.0.1 from https://files.pythonhosted.org/packages/57/c5/5d09b66b41d549914802f482a2118d925d876dc2a35b2d127694c1345c34/PyYAML-6.0.1-cp39-cp39-macosx_10_9_x86_64.whl.metadata\n",
      "  Downloading PyYAML-6.0.1-cp39-cp39-macosx_10_9_x86_64.whl.metadata (2.1 kB)\n",
      "Collecting deprecation==2.1.0 (from alpaca-trade-api)\n",
      "  Obtaining dependency information for deprecation==2.1.0 from https://files.pythonhosted.org/packages/02/c3/253a89ee03fc9b9682f1541728eb66db7db22148cd94f89ab22528cd1e1b/deprecation-2.1.0-py2.py3-none-any.whl.metadata\n",
      "  Downloading deprecation-2.1.0-py2.py3-none-any.whl.metadata (4.6 kB)\n",
      "Requirement already satisfied: packaging in /Library/Frameworks/Python.framework/Versions/3.9/lib/python3.9/site-packages (from deprecation==2.1.0->alpaca-trade-api) (21.3)\n",
      "Collecting aiosignal>=1.1.2 (from aiohttp<4,>=3.8.3->alpaca-trade-api)\n",
      "  Obtaining dependency information for aiosignal>=1.1.2 from https://files.pythonhosted.org/packages/76/ac/a7305707cb852b7e16ff80eaf5692309bde30e2b1100a1fcacdc8f731d97/aiosignal-1.3.1-py3-none-any.whl.metadata\n",
      "  Downloading aiosignal-1.3.1-py3-none-any.whl.metadata (4.0 kB)\n",
      "Requirement already satisfied: attrs>=17.3.0 in /Library/Frameworks/Python.framework/Versions/3.9/lib/python3.9/site-packages (from aiohttp<4,>=3.8.3->alpaca-trade-api) (23.1.0)\n",
      "Collecting frozenlist>=1.1.1 (from aiohttp<4,>=3.8.3->alpaca-trade-api)\n",
      "  Obtaining dependency information for frozenlist>=1.1.1 from https://files.pythonhosted.org/packages/4d/23/7f01123d0e5adcc65cbbde5731378237dea7db467abd19e391f1ddd4130d/frozenlist-1.4.1-cp39-cp39-macosx_10_9_x86_64.whl.metadata\n",
      "  Downloading frozenlist-1.4.1-cp39-cp39-macosx_10_9_x86_64.whl.metadata (12 kB)\n",
      "Collecting multidict<7.0,>=4.5 (from aiohttp<4,>=3.8.3->alpaca-trade-api)\n",
      "  Obtaining dependency information for multidict<7.0,>=4.5 from https://files.pythonhosted.org/packages/7d/5c/c364a77b37f580cc28da4194b77ed04286c7631933d3e64fdae40f1972e2/multidict-6.0.5-cp39-cp39-macosx_10_9_x86_64.whl.metadata\n",
      "  Downloading multidict-6.0.5-cp39-cp39-macosx_10_9_x86_64.whl.metadata (4.2 kB)\n",
      "Collecting yarl<2.0,>=1.0 (from aiohttp<4,>=3.8.3->alpaca-trade-api)\n",
      "  Obtaining dependency information for yarl<2.0,>=1.0 from https://files.pythonhosted.org/packages/8f/0f/9fa6f044b04267d22ec29df23936ffd4bf4572ccecd889c6b2b1761c2c5c/yarl-1.9.4-cp39-cp39-macosx_10_9_x86_64.whl.metadata\n",
      "  Downloading yarl-1.9.4-cp39-cp39-macosx_10_9_x86_64.whl.metadata (31 kB)\n",
      "Collecting async-timeout<5.0,>=4.0 (from aiohttp<4,>=3.8.3->alpaca-trade-api)\n",
      "  Obtaining dependency information for async-timeout<5.0,>=4.0 from https://files.pythonhosted.org/packages/a7/fa/e01228c2938de91d47b307831c62ab9e4001e747789d0b05baf779a6488c/async_timeout-4.0.3-py3-none-any.whl.metadata\n",
      "  Downloading async_timeout-4.0.3-py3-none-any.whl.metadata (4.2 kB)\n",
      "Requirement already satisfied: python-dateutil>=2.8.2 in /Library/Frameworks/Python.framework/Versions/3.9/lib/python3.9/site-packages (from pandas>=0.18.1->alpaca-trade-api) (2.8.2)\n",
      "Requirement already satisfied: pytz>=2020.1 in /Library/Frameworks/Python.framework/Versions/3.9/lib/python3.9/site-packages (from pandas>=0.18.1->alpaca-trade-api) (2023.3)\n",
      "Requirement already satisfied: tzdata>=2022.1 in /Library/Frameworks/Python.framework/Versions/3.9/lib/python3.9/site-packages (from pandas>=0.18.1->alpaca-trade-api) (2023.3)\n",
      "Requirement already satisfied: charset-normalizer<4,>=2 in /Library/Frameworks/Python.framework/Versions/3.9/lib/python3.9/site-packages (from requests<3,>2->alpaca-trade-api) (3.1.0)\n",
      "Requirement already satisfied: idna<4,>=2.5 in /Library/Frameworks/Python.framework/Versions/3.9/lib/python3.9/site-packages (from requests<3,>2->alpaca-trade-api) (3.4)\n",
      "Requirement already satisfied: certifi>=2017.4.17 in /Library/Frameworks/Python.framework/Versions/3.9/lib/python3.9/site-packages (from requests<3,>2->alpaca-trade-api) (2023.5.7)\n",
      "Requirement already satisfied: six>=1.5 in /Library/Frameworks/Python.framework/Versions/3.9/lib/python3.9/site-packages (from python-dateutil>=2.8.2->pandas>=0.18.1->alpaca-trade-api) (1.16.0)\n",
      "Requirement already satisfied: pyparsing!=3.0.5,>=2.0.2 in /Library/Frameworks/Python.framework/Versions/3.9/lib/python3.9/site-packages (from packaging->deprecation==2.1.0->alpaca-trade-api) (3.0.7)\n",
      "Downloading alpaca_trade_api-3.2.0-py3-none-any.whl (34 kB)\n",
      "Downloading deprecation-2.1.0-py2.py3-none-any.whl (11 kB)\n",
      "Downloading msgpack-1.0.3-cp39-cp39-macosx_10_9_x86_64.whl (75 kB)\n",
      "\u001b[2K   \u001b[90m━━━━━━━━━━━━━━━━━━━━━━━━━━━━━━━━━━━━━━━━\u001b[0m \u001b[32m75.4/75.4 kB\u001b[0m \u001b[31m2.4 MB/s\u001b[0m eta \u001b[36m0:00:00\u001b[0m\n",
      "\u001b[?25hDownloading PyYAML-6.0.1-cp39-cp39-macosx_10_9_x86_64.whl (197 kB)\n",
      "\u001b[2K   \u001b[90m━━━━━━━━━━━━━━━━━━━━━━━━━━━━━━━━━━━━━━━━\u001b[0m \u001b[32m197.8/197.8 kB\u001b[0m \u001b[31m4.2 MB/s\u001b[0m eta \u001b[36m0:00:00\u001b[0m:00:01\u001b[0m\n",
      "\u001b[?25hDownloading aiohttp-3.9.3-cp39-cp39-macosx_10_9_x86_64.whl (398 kB)\n",
      "\u001b[2K   \u001b[90m━━━━━━━━━━━━━━━━━━━━━━━━━━━━━━━━━━━━━━━━\u001b[0m \u001b[32m398.8/398.8 kB\u001b[0m \u001b[31m6.0 MB/s\u001b[0m eta \u001b[36m0:00:00\u001b[0ma \u001b[36m0:00:01\u001b[0m\n",
      "\u001b[?25hDownloading websockets-10.4-cp39-cp39-macosx_10_9_x86_64.whl (97 kB)\n",
      "\u001b[2K   \u001b[90m━━━━━━━━━━━━━━━━━━━━━━━━━━━━━━━━━━━━━━━━\u001b[0m \u001b[32m97.9/97.9 kB\u001b[0m \u001b[31m3.2 MB/s\u001b[0m eta \u001b[36m0:00:00\u001b[0m\n",
      "\u001b[?25hDownloading aiosignal-1.3.1-py3-none-any.whl (7.6 kB)\n",
      "Downloading async_timeout-4.0.3-py3-none-any.whl (5.7 kB)\n",
      "Downloading frozenlist-1.4.1-cp39-cp39-macosx_10_9_x86_64.whl (55 kB)\n",
      "\u001b[2K   \u001b[90m━━━━━━━━━━━━━━━━━━━━━━━━━━━━━━━━━━━━━━━━\u001b[0m \u001b[32m55.2/55.2 kB\u001b[0m \u001b[31m1.8 MB/s\u001b[0m eta \u001b[36m0:00:00\u001b[0m\n",
      "\u001b[?25hDownloading multidict-6.0.5-cp39-cp39-macosx_10_9_x86_64.whl (30 kB)\n",
      "Downloading yarl-1.9.4-cp39-cp39-macosx_10_9_x86_64.whl (83 kB)\n",
      "\u001b[2K   \u001b[90m━━━━━━━━━━━━━━━━━━━━━━━━━━━━━━━━━━━━━━━━\u001b[0m \u001b[32m83.7/83.7 kB\u001b[0m \u001b[31m2.9 MB/s\u001b[0m eta \u001b[36m0:00:00\u001b[0m\n",
      "\u001b[?25hInstalling collected packages: msgpack, websockets, PyYAML, multidict, frozenlist, async-timeout, yarl, deprecation, aiosignal, aiohttp, alpaca-trade-api\n",
      "  Attempting uninstall: PyYAML\n",
      "    Found existing installation: PyYAML 6.0\n",
      "    Uninstalling PyYAML-6.0:\n",
      "      Successfully uninstalled PyYAML-6.0\n"
     ]
    },
    {
     "name": "stdout",
     "output_type": "stream",
     "text": [
      "Successfully installed PyYAML-6.0.1 aiohttp-3.9.3 aiosignal-1.3.1 alpaca-trade-api-3.2.0 async-timeout-4.0.3 deprecation-2.1.0 frozenlist-1.4.1 msgpack-1.0.3 multidict-6.0.5 websockets-10.4 yarl-1.9.4\n",
      "\n",
      "\u001b[1m[\u001b[0m\u001b[34;49mnotice\u001b[0m\u001b[1;39;49m]\u001b[0m\u001b[39;49m A new release of pip is available: \u001b[0m\u001b[31;49m23.2.1\u001b[0m\u001b[39;49m -> \u001b[0m\u001b[32;49m24.0\u001b[0m\n",
      "\u001b[1m[\u001b[0m\u001b[34;49mnotice\u001b[0m\u001b[1;39;49m]\u001b[0m\u001b[39;49m To update, run: \u001b[0m\u001b[32;49mpip install --upgrade pip\u001b[0m\n",
      "Note: you may need to restart the kernel to use updated packages.\n"
     ]
    }
   ],
   "source": [
    "pip install alpaca-trade-api"
   ]
  },
  {
   "cell_type": "code",
   "execution_count": 61,
   "id": "cad39757",
   "metadata": {
    "scrolled": true
   },
   "outputs": [
    {
     "ename": "ConnectionError",
     "evalue": "Not connected",
     "output_type": "error",
     "traceback": [
      "\u001b[0;31m---------------------------------------------------------------------------\u001b[0m",
      "\u001b[0;31mConnectionError\u001b[0m                           Traceback (most recent call last)",
      "Cell \u001b[0;32mIn[61], line 2\u001b[0m\n\u001b[1;32m      1\u001b[0m order \u001b[38;5;241m=\u001b[39m Order(action\u001b[38;5;241m=\u001b[39m\u001b[38;5;124m'\u001b[39m\u001b[38;5;124mBUY\u001b[39m\u001b[38;5;124m'\u001b[39m, totalQuantity\u001b[38;5;241m=\u001b[39m\u001b[38;5;241m100\u001b[39m, orderType\u001b[38;5;241m=\u001b[39m\u001b[38;5;124m'\u001b[39m\u001b[38;5;124mLMT\u001b[39m\u001b[38;5;124m'\u001b[39m, lmtPrice\u001b[38;5;241m=\u001b[39m\u001b[38;5;241m5200\u001b[39m)\n\u001b[0;32m----> 2\u001b[0m trade \u001b[38;5;241m=\u001b[39m \u001b[43mib\u001b[49m\u001b[38;5;241;43m.\u001b[39;49m\u001b[43mplaceOrder\u001b[49m\u001b[43m(\u001b[49m\u001b[43mcontract\u001b[49m\u001b[43m,\u001b[49m\u001b[43m \u001b[49m\u001b[43morder\u001b[49m\u001b[43m)\u001b[49m\n",
      "File \u001b[0;32m/Library/Frameworks/Python.framework/Versions/3.9/lib/python3.9/site-packages/ib_insync/ib.py:654\u001b[0m, in \u001b[0;36mIB.placeOrder\u001b[0;34m(self, contract, order)\u001b[0m\n\u001b[1;32m    644\u001b[0m \u001b[38;5;28;01mdef\u001b[39;00m \u001b[38;5;21mplaceOrder\u001b[39m(\u001b[38;5;28mself\u001b[39m, contract: Contract, order: Order) \u001b[38;5;241m-\u001b[39m\u001b[38;5;241m>\u001b[39m Trade:\n\u001b[1;32m    645\u001b[0m \u001b[38;5;250m    \u001b[39m\u001b[38;5;124;03m\"\"\"\u001b[39;00m\n\u001b[1;32m    646\u001b[0m \u001b[38;5;124;03m    Place a new order or modify an existing order.\u001b[39;00m\n\u001b[1;32m    647\u001b[0m \u001b[38;5;124;03m    Returns a Trade that is kept live updated with\u001b[39;00m\n\u001b[0;32m   (...)\u001b[0m\n\u001b[1;32m    652\u001b[0m \u001b[38;5;124;03m        order: The order to be placed.\u001b[39;00m\n\u001b[1;32m    653\u001b[0m \u001b[38;5;124;03m    \"\"\"\u001b[39;00m\n\u001b[0;32m--> 654\u001b[0m     orderId \u001b[38;5;241m=\u001b[39m order\u001b[38;5;241m.\u001b[39morderId \u001b[38;5;129;01mor\u001b[39;00m \u001b[38;5;28;43mself\u001b[39;49m\u001b[38;5;241;43m.\u001b[39;49m\u001b[43mclient\u001b[49m\u001b[38;5;241;43m.\u001b[39;49m\u001b[43mgetReqId\u001b[49m\u001b[43m(\u001b[49m\u001b[43m)\u001b[49m\n\u001b[1;32m    655\u001b[0m     \u001b[38;5;28mself\u001b[39m\u001b[38;5;241m.\u001b[39mclient\u001b[38;5;241m.\u001b[39mplaceOrder(orderId, contract, order)\n\u001b[1;32m    656\u001b[0m     now \u001b[38;5;241m=\u001b[39m datetime\u001b[38;5;241m.\u001b[39mdatetime\u001b[38;5;241m.\u001b[39mnow(datetime\u001b[38;5;241m.\u001b[39mtimezone\u001b[38;5;241m.\u001b[39mutc)\n",
      "File \u001b[0;32m/Library/Frameworks/Python.framework/Versions/3.9/lib/python3.9/site-packages/ib_insync/client.py:160\u001b[0m, in \u001b[0;36mClient.getReqId\u001b[0;34m(self)\u001b[0m\n\u001b[1;32m    158\u001b[0m \u001b[38;5;250m\u001b[39m\u001b[38;5;124;03m\"\"\"Get new request ID.\"\"\"\u001b[39;00m\n\u001b[1;32m    159\u001b[0m \u001b[38;5;28;01mif\u001b[39;00m \u001b[38;5;129;01mnot\u001b[39;00m \u001b[38;5;28mself\u001b[39m\u001b[38;5;241m.\u001b[39misReady():\n\u001b[0;32m--> 160\u001b[0m     \u001b[38;5;28;01mraise\u001b[39;00m \u001b[38;5;167;01mConnectionError\u001b[39;00m(\u001b[38;5;124m'\u001b[39m\u001b[38;5;124mNot connected\u001b[39m\u001b[38;5;124m'\u001b[39m)\n\u001b[1;32m    161\u001b[0m newId \u001b[38;5;241m=\u001b[39m \u001b[38;5;28mself\u001b[39m\u001b[38;5;241m.\u001b[39m_reqIdSeq\n\u001b[1;32m    162\u001b[0m \u001b[38;5;28mself\u001b[39m\u001b[38;5;241m.\u001b[39m_reqIdSeq \u001b[38;5;241m+\u001b[39m\u001b[38;5;241m=\u001b[39m \u001b[38;5;241m1\u001b[39m\n",
      "\u001b[0;31mConnectionError\u001b[0m: Not connected"
     ]
    }
   ],
   "source": [
    "order = Order(action='BUY', totalQuantity=100, orderType='LMT', lmtPrice=5200)\n",
    "trade = ib.placeOrder(contract, order)"
   ]
  },
  {
   "cell_type": "code",
   "execution_count": 1,
   "id": "9286490f",
   "metadata": {},
   "outputs": [
    {
     "name": "stdout",
     "output_type": "stream",
     "text": [
      "Requirement already satisfied: pip in /Library/Frameworks/Python.framework/Versions/3.9/lib/python3.9/site-packages (24.0)\n",
      "Note: you may need to restart the kernel to use updated packages.\n"
     ]
    }
   ],
   "source": [
    "pip install --upgrade pip"
   ]
  },
  {
   "cell_type": "code",
   "execution_count": 9,
   "id": "6a92a535",
   "metadata": {},
   "outputs": [
    {
     "ename": "HTTPError",
     "evalue": "403 Client Error: Forbidden for url: https://data.alpaca.markets/v2/stocks/AAPL/bars?timeframe=day&adjustment=raw&limit=10",
     "output_type": "error",
     "traceback": [
      "\u001b[0;31m---------------------------------------------------------------------------\u001b[0m",
      "\u001b[0;31mHTTPError\u001b[0m                                 Traceback (most recent call last)",
      "Cell \u001b[0;32mIn[9], line 12\u001b[0m\n\u001b[1;32m      9\u001b[0m api \u001b[38;5;241m=\u001b[39m tradeapi\u001b[38;5;241m.\u001b[39mREST(API_KEY, API_SECRET, base_url\u001b[38;5;241m=\u001b[39mBASE_URL, api_version\u001b[38;5;241m=\u001b[39m\u001b[38;5;124m'\u001b[39m\u001b[38;5;124mv2\u001b[39m\u001b[38;5;124m'\u001b[39m)\n\u001b[1;32m     11\u001b[0m \u001b[38;5;66;03m# Get stock data\u001b[39;00m\n\u001b[0;32m---> 12\u001b[0m barset \u001b[38;5;241m=\u001b[39m \u001b[43mapi\u001b[49m\u001b[38;5;241;43m.\u001b[39;49m\u001b[43mget_bars\u001b[49m\u001b[43m(\u001b[49m\u001b[38;5;124;43m'\u001b[39;49m\u001b[38;5;124;43mAAPL\u001b[39;49m\u001b[38;5;124;43m'\u001b[39;49m\u001b[43m,\u001b[49m\u001b[43m \u001b[49m\u001b[38;5;124;43m'\u001b[39;49m\u001b[38;5;124;43mday\u001b[39;49m\u001b[38;5;124;43m'\u001b[39;49m\u001b[43m,\u001b[49m\u001b[43m \u001b[49m\u001b[43mlimit\u001b[49m\u001b[38;5;241;43m=\u001b[39;49m\u001b[38;5;241;43m10\u001b[39;49m\u001b[43m)\u001b[49m\n\u001b[1;32m     13\u001b[0m aapl_bars \u001b[38;5;241m=\u001b[39m barset[\u001b[38;5;124m'\u001b[39m\u001b[38;5;124mAAPL\u001b[39m\u001b[38;5;124m'\u001b[39m]\n\u001b[1;32m     14\u001b[0m \u001b[38;5;28;01mfor\u001b[39;00m bar \u001b[38;5;129;01min\u001b[39;00m aapl_bars:\n",
      "File \u001b[0;32m/Library/Frameworks/Python.framework/Versions/3.9/lib/python3.9/site-packages/alpaca_trade_api/rest.py:735\u001b[0m, in \u001b[0;36mREST.get_bars\u001b[0;34m(self, symbol, timeframe, start, end, adjustment, limit, feed, asof, sort)\u001b[0m\n\u001b[1;32m    724\u001b[0m \u001b[38;5;28;01mdef\u001b[39;00m \u001b[38;5;21mget_bars\u001b[39m(\u001b[38;5;28mself\u001b[39m,\n\u001b[1;32m    725\u001b[0m              symbol: Union[\u001b[38;5;28mstr\u001b[39m, List[\u001b[38;5;28mstr\u001b[39m]],\n\u001b[1;32m    726\u001b[0m              timeframe: TimeFrame,\n\u001b[0;32m   (...)\u001b[0m\n\u001b[1;32m    733\u001b[0m              sort: Optional[Sort] \u001b[38;5;241m=\u001b[39m \u001b[38;5;28;01mNone\u001b[39;00m,\n\u001b[1;32m    734\u001b[0m              ) \u001b[38;5;241m-\u001b[39m\u001b[38;5;241m>\u001b[39m BarsV2:\n\u001b[0;32m--> 735\u001b[0m     bars \u001b[38;5;241m=\u001b[39m \u001b[38;5;28;43mlist\u001b[39;49m\u001b[43m(\u001b[49m\u001b[38;5;28;43mself\u001b[39;49m\u001b[38;5;241;43m.\u001b[39;49m\u001b[43mget_bars_iter\u001b[49m\u001b[43m(\u001b[49m\u001b[43msymbol\u001b[49m\u001b[43m,\u001b[49m\n\u001b[1;32m    736\u001b[0m \u001b[43m                                   \u001b[49m\u001b[43mtimeframe\u001b[49m\u001b[43m,\u001b[49m\n\u001b[1;32m    737\u001b[0m \u001b[43m                                   \u001b[49m\u001b[43mstart\u001b[49m\u001b[43m,\u001b[49m\n\u001b[1;32m    738\u001b[0m \u001b[43m                                   \u001b[49m\u001b[43mend\u001b[49m\u001b[43m,\u001b[49m\n\u001b[1;32m    739\u001b[0m \u001b[43m                                   \u001b[49m\u001b[43madjustment\u001b[49m\u001b[43m,\u001b[49m\n\u001b[1;32m    740\u001b[0m \u001b[43m                                   \u001b[49m\u001b[43mlimit\u001b[49m\u001b[43m,\u001b[49m\n\u001b[1;32m    741\u001b[0m \u001b[43m                                   \u001b[49m\u001b[43mfeed\u001b[49m\u001b[38;5;241;43m=\u001b[39;49m\u001b[43mfeed\u001b[49m\u001b[43m,\u001b[49m\n\u001b[1;32m    742\u001b[0m \u001b[43m                                   \u001b[49m\u001b[43masof\u001b[49m\u001b[38;5;241;43m=\u001b[39;49m\u001b[43masof\u001b[49m\u001b[43m,\u001b[49m\n\u001b[1;32m    743\u001b[0m \u001b[43m                                   \u001b[49m\u001b[43msort\u001b[49m\u001b[38;5;241;43m=\u001b[39;49m\u001b[43msort\u001b[49m\u001b[43m,\u001b[49m\n\u001b[1;32m    744\u001b[0m \u001b[43m                                   \u001b[49m\u001b[43mraw\u001b[49m\u001b[38;5;241;43m=\u001b[39;49m\u001b[38;5;28;43;01mTrue\u001b[39;49;00m\u001b[43m)\u001b[49m\u001b[43m)\u001b[49m\n\u001b[1;32m    745\u001b[0m     \u001b[38;5;28;01mreturn\u001b[39;00m BarsV2(bars)\n",
      "File \u001b[0;32m/Library/Frameworks/Python.framework/Versions/3.9/lib/python3.9/site-packages/alpaca_trade_api/rest.py:718\u001b[0m, in \u001b[0;36mREST.get_bars_iter\u001b[0;34m(self, symbol, timeframe, start, end, adjustment, limit, feed, asof, sort, raw)\u001b[0m\n\u001b[1;32m    697\u001b[0m \u001b[38;5;28;01mdef\u001b[39;00m \u001b[38;5;21mget_bars_iter\u001b[39m(\u001b[38;5;28mself\u001b[39m,\n\u001b[1;32m    698\u001b[0m                   symbol: Union[\u001b[38;5;28mstr\u001b[39m, List[\u001b[38;5;28mstr\u001b[39m]],\n\u001b[1;32m    699\u001b[0m                   timeframe: TimeFrame,\n\u001b[0;32m   (...)\u001b[0m\n\u001b[1;32m    706\u001b[0m                   sort: Optional[Sort] \u001b[38;5;241m=\u001b[39m \u001b[38;5;28;01mNone\u001b[39;00m,\n\u001b[1;32m    707\u001b[0m                   raw\u001b[38;5;241m=\u001b[39m\u001b[38;5;28;01mFalse\u001b[39;00m) \u001b[38;5;241m-\u001b[39m\u001b[38;5;241m>\u001b[39m BarIterator:\n\u001b[1;32m    708\u001b[0m     bars \u001b[38;5;241m=\u001b[39m \u001b[38;5;28mself\u001b[39m\u001b[38;5;241m.\u001b[39m_data_get(\u001b[38;5;124m'\u001b[39m\u001b[38;5;124mbars\u001b[39m\u001b[38;5;124m'\u001b[39m, symbol,\n\u001b[1;32m    709\u001b[0m                           timeframe\u001b[38;5;241m=\u001b[39mtimeframe,\n\u001b[1;32m    710\u001b[0m                           adjustment\u001b[38;5;241m=\u001b[39madjustment,\n\u001b[0;32m   (...)\u001b[0m\n\u001b[1;32m    716\u001b[0m                           sort\u001b[38;5;241m=\u001b[39msort,\n\u001b[1;32m    717\u001b[0m                           )\n\u001b[0;32m--> 718\u001b[0m     \u001b[38;5;28;01mfor\u001b[39;00m bar \u001b[38;5;129;01min\u001b[39;00m bars:\n\u001b[1;32m    719\u001b[0m         \u001b[38;5;28;01mif\u001b[39;00m raw:\n\u001b[1;32m    720\u001b[0m             \u001b[38;5;28;01myield\u001b[39;00m bar\n",
      "File \u001b[0;32m/Library/Frameworks/Python.framework/Versions/3.9/lib/python3.9/site-packages/alpaca_trade_api/rest.py:594\u001b[0m, in \u001b[0;36mREST._data_get\u001b[0;34m(self, endpoint, symbol_or_symbols, api_version, endpoint_base, resp_grouped_by_symbol, page_limit, feed, asof, loc, **kwargs)\u001b[0m\n\u001b[1;32m    592\u001b[0m \u001b[38;5;28;01mif\u001b[39;00m endpoint:\n\u001b[1;32m    593\u001b[0m     path \u001b[38;5;241m+\u001b[39m\u001b[38;5;241m=\u001b[39m \u001b[38;5;124mf\u001b[39m\u001b[38;5;124m'\u001b[39m\u001b[38;5;124m/\u001b[39m\u001b[38;5;132;01m{\u001b[39;00mendpoint\u001b[38;5;132;01m}\u001b[39;00m\u001b[38;5;124m'\u001b[39m\n\u001b[0;32m--> 594\u001b[0m resp \u001b[38;5;241m=\u001b[39m \u001b[38;5;28;43mself\u001b[39;49m\u001b[38;5;241;43m.\u001b[39;49m\u001b[43mdata_get\u001b[49m\u001b[43m(\u001b[49m\u001b[43mpath\u001b[49m\u001b[43m,\u001b[49m\u001b[43m \u001b[49m\u001b[43mdata\u001b[49m\u001b[38;5;241;43m=\u001b[39;49m\u001b[43mdata\u001b[49m\u001b[43m,\u001b[49m\u001b[43m \u001b[49m\u001b[43mfeed\u001b[49m\u001b[38;5;241;43m=\u001b[39;49m\u001b[43mfeed\u001b[49m\u001b[43m,\u001b[49m\n\u001b[1;32m    595\u001b[0m \u001b[43m                     \u001b[49m\u001b[43mapi_version\u001b[49m\u001b[38;5;241;43m=\u001b[39;49m\u001b[43mapi_version\u001b[49m\u001b[43m)\u001b[49m\n\u001b[1;32m    596\u001b[0m \u001b[38;5;28;01mif\u001b[39;00m \u001b[38;5;129;01mnot\u001b[39;00m resp_grouped_by_symbol:\n\u001b[1;32m    597\u001b[0m     k \u001b[38;5;241m=\u001b[39m endpoint \u001b[38;5;129;01mor\u001b[39;00m endpoint_base\n",
      "File \u001b[0;32m/Library/Frameworks/Python.framework/Versions/3.9/lib/python3.9/site-packages/alpaca_trade_api/rest.py:274\u001b[0m, in \u001b[0;36mREST.data_get\u001b[0;34m(self, path, data, feed, api_version)\u001b[0m\n\u001b[1;32m    272\u001b[0m     data \u001b[38;5;241m=\u001b[39m data \u001b[38;5;129;01mor\u001b[39;00m {}\n\u001b[1;32m    273\u001b[0m     data[\u001b[38;5;124m'\u001b[39m\u001b[38;5;124mfeed\u001b[39m\u001b[38;5;124m'\u001b[39m] \u001b[38;5;241m=\u001b[39m feed\n\u001b[0;32m--> 274\u001b[0m \u001b[38;5;28;01mreturn\u001b[39;00m \u001b[38;5;28;43mself\u001b[39;49m\u001b[38;5;241;43m.\u001b[39;49m\u001b[43m_request\u001b[49m\u001b[43m(\u001b[49m\n\u001b[1;32m    275\u001b[0m \u001b[43m    \u001b[49m\u001b[38;5;124;43m'\u001b[39;49m\u001b[38;5;124;43mGET\u001b[39;49m\u001b[38;5;124;43m'\u001b[39;49m\u001b[43m,\u001b[49m\u001b[43m \u001b[49m\u001b[43mpath\u001b[49m\u001b[43m,\u001b[49m\u001b[43m \u001b[49m\u001b[43mdata\u001b[49m\u001b[43m,\u001b[49m\u001b[43m \u001b[49m\u001b[43mbase_url\u001b[49m\u001b[38;5;241;43m=\u001b[39;49m\u001b[43mbase_url\u001b[49m\u001b[43m,\u001b[49m\u001b[43m \u001b[49m\u001b[43mapi_version\u001b[49m\u001b[38;5;241;43m=\u001b[39;49m\u001b[43mapi_version\u001b[49m\u001b[43m,\u001b[49m\n\u001b[1;32m    276\u001b[0m \u001b[43m\u001b[49m\u001b[43m)\u001b[49m\n",
      "File \u001b[0;32m/Library/Frameworks/Python.framework/Versions/3.9/lib/python3.9/site-packages/alpaca_trade_api/rest.py:222\u001b[0m, in \u001b[0;36mREST._request\u001b[0;34m(self, method, path, data, base_url, api_version)\u001b[0m\n\u001b[1;32m    220\u001b[0m \u001b[38;5;28;01mwhile\u001b[39;00m retry \u001b[38;5;241m>\u001b[39m\u001b[38;5;241m=\u001b[39m \u001b[38;5;241m0\u001b[39m:\n\u001b[1;32m    221\u001b[0m     \u001b[38;5;28;01mtry\u001b[39;00m:\n\u001b[0;32m--> 222\u001b[0m         \u001b[38;5;28;01mreturn\u001b[39;00m \u001b[38;5;28;43mself\u001b[39;49m\u001b[38;5;241;43m.\u001b[39;49m\u001b[43m_one_request\u001b[49m\u001b[43m(\u001b[49m\u001b[43mmethod\u001b[49m\u001b[43m,\u001b[49m\u001b[43m \u001b[49m\u001b[43murl\u001b[49m\u001b[43m,\u001b[49m\u001b[43m \u001b[49m\u001b[43mopts\u001b[49m\u001b[43m,\u001b[49m\u001b[43m \u001b[49m\u001b[43mretry\u001b[49m\u001b[43m)\u001b[49m\n\u001b[1;32m    223\u001b[0m     \u001b[38;5;28;01mexcept\u001b[39;00m RetryException:\n\u001b[1;32m    224\u001b[0m         retry_wait \u001b[38;5;241m=\u001b[39m \u001b[38;5;28mself\u001b[39m\u001b[38;5;241m.\u001b[39m_retry_wait\n",
      "File \u001b[0;32m/Library/Frameworks/Python.framework/Versions/3.9/lib/python3.9/site-packages/alpaca_trade_api/rest.py:248\u001b[0m, in \u001b[0;36mREST._one_request\u001b[0;34m(self, method, url, opts, retry)\u001b[0m\n\u001b[1;32m    246\u001b[0m     \u001b[38;5;28;01mif\u001b[39;00m resp\u001b[38;5;241m.\u001b[39mstatus_code \u001b[38;5;129;01min\u001b[39;00m retry_codes \u001b[38;5;129;01mand\u001b[39;00m retry \u001b[38;5;241m>\u001b[39m \u001b[38;5;241m0\u001b[39m:\n\u001b[1;32m    247\u001b[0m         \u001b[38;5;28;01mraise\u001b[39;00m RetryException()\n\u001b[0;32m--> 248\u001b[0m     \u001b[43mraise_api_error\u001b[49m\u001b[43m(\u001b[49m\u001b[43mresp\u001b[49m\u001b[43m,\u001b[49m\u001b[43m \u001b[49m\u001b[43mhttp_error\u001b[49m\u001b[43m)\u001b[49m\n\u001b[1;32m    249\u001b[0m \u001b[38;5;28;01mif\u001b[39;00m resp\u001b[38;5;241m.\u001b[39mtext \u001b[38;5;241m!=\u001b[39m \u001b[38;5;124m'\u001b[39m\u001b[38;5;124m'\u001b[39m:\n\u001b[1;32m    250\u001b[0m     \u001b[38;5;28;01mreturn\u001b[39;00m resp\u001b[38;5;241m.\u001b[39mjson()\n",
      "File \u001b[0;32m/Library/Frameworks/Python.framework/Versions/3.9/lib/python3.9/site-packages/alpaca_trade_api/rest.py:81\u001b[0m, in \u001b[0;36mraise_api_error\u001b[0;34m(resp, http_error)\u001b[0m\n\u001b[1;32m     79\u001b[0m     error \u001b[38;5;241m=\u001b[39m resp\u001b[38;5;241m.\u001b[39mjson()\n\u001b[1;32m     80\u001b[0m \u001b[38;5;28;01mexcept\u001b[39;00m:\n\u001b[0;32m---> 81\u001b[0m     \u001b[38;5;28;01mraise\u001b[39;00m http_error \u001b[38;5;28;01mfrom\u001b[39;00m \u001b[38;5;28;01mNone\u001b[39;00m\n\u001b[1;32m     82\u001b[0m \u001b[38;5;28;01mif\u001b[39;00m \u001b[38;5;124m'\u001b[39m\u001b[38;5;124mmessage\u001b[39m\u001b[38;5;124m'\u001b[39m \u001b[38;5;129;01min\u001b[39;00m error:\n\u001b[1;32m     83\u001b[0m     \u001b[38;5;28;01mraise\u001b[39;00m APIError(error, http_error) \u001b[38;5;28;01mfrom\u001b[39;00m \u001b[38;5;28;01mNone\u001b[39;00m\n",
      "File \u001b[0;32m/Library/Frameworks/Python.framework/Versions/3.9/lib/python3.9/site-packages/alpaca_trade_api/rest.py:243\u001b[0m, in \u001b[0;36mREST._one_request\u001b[0;34m(self, method, url, opts, retry)\u001b[0m\n\u001b[1;32m    241\u001b[0m resp \u001b[38;5;241m=\u001b[39m \u001b[38;5;28mself\u001b[39m\u001b[38;5;241m.\u001b[39m_session\u001b[38;5;241m.\u001b[39mrequest(method, url, \u001b[38;5;241m*\u001b[39m\u001b[38;5;241m*\u001b[39mopts)\n\u001b[1;32m    242\u001b[0m \u001b[38;5;28;01mtry\u001b[39;00m:\n\u001b[0;32m--> 243\u001b[0m     \u001b[43mresp\u001b[49m\u001b[38;5;241;43m.\u001b[39;49m\u001b[43mraise_for_status\u001b[49m\u001b[43m(\u001b[49m\u001b[43m)\u001b[49m\n\u001b[1;32m    244\u001b[0m \u001b[38;5;28;01mexcept\u001b[39;00m HTTPError \u001b[38;5;28;01mas\u001b[39;00m http_error:\n\u001b[1;32m    245\u001b[0m     \u001b[38;5;66;03m# retry if we hit Rate Limit\u001b[39;00m\n\u001b[1;32m    246\u001b[0m     \u001b[38;5;28;01mif\u001b[39;00m resp\u001b[38;5;241m.\u001b[39mstatus_code \u001b[38;5;129;01min\u001b[39;00m retry_codes \u001b[38;5;129;01mand\u001b[39;00m retry \u001b[38;5;241m>\u001b[39m \u001b[38;5;241m0\u001b[39m:\n",
      "File \u001b[0;32m/Library/Frameworks/Python.framework/Versions/3.9/lib/python3.9/site-packages/requests/models.py:1021\u001b[0m, in \u001b[0;36mResponse.raise_for_status\u001b[0;34m(self)\u001b[0m\n\u001b[1;32m   1016\u001b[0m     http_error_msg \u001b[38;5;241m=\u001b[39m (\n\u001b[1;32m   1017\u001b[0m         \u001b[38;5;124mf\u001b[39m\u001b[38;5;124m\"\u001b[39m\u001b[38;5;132;01m{\u001b[39;00m\u001b[38;5;28mself\u001b[39m\u001b[38;5;241m.\u001b[39mstatus_code\u001b[38;5;132;01m}\u001b[39;00m\u001b[38;5;124m Server Error: \u001b[39m\u001b[38;5;132;01m{\u001b[39;00mreason\u001b[38;5;132;01m}\u001b[39;00m\u001b[38;5;124m for url: \u001b[39m\u001b[38;5;132;01m{\u001b[39;00m\u001b[38;5;28mself\u001b[39m\u001b[38;5;241m.\u001b[39murl\u001b[38;5;132;01m}\u001b[39;00m\u001b[38;5;124m\"\u001b[39m\n\u001b[1;32m   1018\u001b[0m     )\n\u001b[1;32m   1020\u001b[0m \u001b[38;5;28;01mif\u001b[39;00m http_error_msg:\n\u001b[0;32m-> 1021\u001b[0m     \u001b[38;5;28;01mraise\u001b[39;00m HTTPError(http_error_msg, response\u001b[38;5;241m=\u001b[39m\u001b[38;5;28mself\u001b[39m)\n",
      "\u001b[0;31mHTTPError\u001b[0m: 403 Client Error: Forbidden for url: https://data.alpaca.markets/v2/stocks/AAPL/bars?timeframe=day&adjustment=raw&limit=10"
     ]
    }
   ],
   "source": [
    "import alpaca_trade_api as tradeapi\n",
    "\n",
    "# Set your API key and secret\n",
    "API_KEY = 'your_api_key'\n",
    "API_SECRET = 'your_api_secret'\n",
    "BASE_URL = 'https://paper-api.alpaca.markets'  # or 'https://api.alpaca.markets' for live trading\n",
    "\n",
    "# Initialize the API connection\n",
    "api = tradeapi.REST(API_KEY, API_SECRET, base_url=BASE_URL, api_version='v2')\n",
    "\n",
    "# Get stock data\n",
    "barset = api.get_bars('AAPL', 'day', limit=10)\n",
    "aapl_bars = barset['AAPL']\n",
    "for bar in aapl_bars:\n",
    "    print(bar.t, bar.o, bar.h, bar.l, bar.c, bar.v)\n"
   ]
  },
  {
   "cell_type": "code",
   "execution_count": 8,
   "id": "705642a0",
   "metadata": {},
   "outputs": [
    {
     "name": "stdout",
     "output_type": "stream",
     "text": [
      "Collecting alpha_vantage\n",
      "  Obtaining dependency information for alpha_vantage from https://files.pythonhosted.org/packages/ba/b4/d95f9e0eccea6732bab5a079772d453a4f0b68a9f63740d9cf320f92beaa/alpha_vantage-2.3.1-py3-none-any.whl.metadata\n",
      "  Downloading alpha_vantage-2.3.1-py3-none-any.whl.metadata (12 kB)\n",
      "Requirement already satisfied: aiohttp in /Library/Frameworks/Python.framework/Versions/3.9/lib/python3.9/site-packages (from alpha_vantage) (3.9.3)\n",
      "Requirement already satisfied: requests in /Library/Frameworks/Python.framework/Versions/3.9/lib/python3.9/site-packages (from alpha_vantage) (2.31.0)\n",
      "Requirement already satisfied: aiosignal>=1.1.2 in /Library/Frameworks/Python.framework/Versions/3.9/lib/python3.9/site-packages (from aiohttp->alpha_vantage) (1.3.1)\n",
      "Requirement already satisfied: attrs>=17.3.0 in /Library/Frameworks/Python.framework/Versions/3.9/lib/python3.9/site-packages (from aiohttp->alpha_vantage) (23.1.0)\n",
      "Requirement already satisfied: frozenlist>=1.1.1 in /Library/Frameworks/Python.framework/Versions/3.9/lib/python3.9/site-packages (from aiohttp->alpha_vantage) (1.4.1)\n",
      "Requirement already satisfied: multidict<7.0,>=4.5 in /Library/Frameworks/Python.framework/Versions/3.9/lib/python3.9/site-packages (from aiohttp->alpha_vantage) (6.0.5)\n",
      "Requirement already satisfied: yarl<2.0,>=1.0 in /Library/Frameworks/Python.framework/Versions/3.9/lib/python3.9/site-packages (from aiohttp->alpha_vantage) (1.9.4)\n",
      "Requirement already satisfied: async-timeout<5.0,>=4.0 in /Library/Frameworks/Python.framework/Versions/3.9/lib/python3.9/site-packages (from aiohttp->alpha_vantage) (4.0.3)\n",
      "Requirement already satisfied: charset-normalizer<4,>=2 in /Library/Frameworks/Python.framework/Versions/3.9/lib/python3.9/site-packages (from requests->alpha_vantage) (3.1.0)\n",
      "Requirement already satisfied: idna<4,>=2.5 in /Library/Frameworks/Python.framework/Versions/3.9/lib/python3.9/site-packages (from requests->alpha_vantage) (3.4)\n",
      "Requirement already satisfied: urllib3<3,>=1.21.1 in /Library/Frameworks/Python.framework/Versions/3.9/lib/python3.9/site-packages (from requests->alpha_vantage) (1.26.16)\n",
      "Requirement already satisfied: certifi>=2017.4.17 in /Library/Frameworks/Python.framework/Versions/3.9/lib/python3.9/site-packages (from requests->alpha_vantage) (2023.5.7)\n",
      "Downloading alpha_vantage-2.3.1-py3-none-any.whl (31 kB)\n",
      "Installing collected packages: alpha_vantage\n",
      "Successfully installed alpha_vantage-2.3.1\n",
      "\n",
      "\u001b[1m[\u001b[0m\u001b[34;49mnotice\u001b[0m\u001b[1;39;49m]\u001b[0m\u001b[39;49m A new release of pip is available: \u001b[0m\u001b[31;49m23.2.1\u001b[0m\u001b[39;49m -> \u001b[0m\u001b[32;49m24.0\u001b[0m\n",
      "\u001b[1m[\u001b[0m\u001b[34;49mnotice\u001b[0m\u001b[1;39;49m]\u001b[0m\u001b[39;49m To update, run: \u001b[0m\u001b[32;49mpip install --upgrade pip\u001b[0m\n",
      "Note: you may need to restart the kernel to use updated packages.\n"
     ]
    }
   ],
   "source": [
    "pip install alpha_vantage"
   ]
  },
  {
   "cell_type": "code",
   "execution_count": 9,
   "id": "b029a376",
   "metadata": {},
   "outputs": [
    {
     "name": "stdout",
     "output_type": "stream",
     "text": [
      "            1. open   2. high   3. low  4. close    5. volume\n",
      "date                                                         \n",
      "2024-03-19   174.34  176.6050  173.030    176.08   55215244.0\n",
      "2024-03-18   175.57  177.7100  173.520    173.72   75604184.0\n",
      "2024-03-15   171.17  172.6200  170.285    172.62  121752699.0\n",
      "2024-03-14   172.91  174.3078  172.050    173.00   72571635.0\n",
      "2024-03-13   172.77  173.1850  170.760    171.13   51948951.0\n",
      "...             ...       ...      ...       ...          ...\n",
      "2023-10-31   169.35  170.9000  167.900    170.77   44846017.0\n",
      "2023-10-30   169.02  171.1700  168.870    170.29   51130955.0\n",
      "2023-10-27   166.91  168.9600  166.830    168.22   58499129.0\n",
      "2023-10-26   170.37  171.3775  165.670    166.89   70625258.0\n",
      "2023-10-25   171.88  173.0600  170.650    171.10   57156962.0\n",
      "\n",
      "[100 rows x 5 columns]\n"
     ]
    }
   ],
   "source": [
    "from alpha_vantage.timeseries import TimeSeries\n",
    "\n",
    "# Set your API key\n",
    "API_KEY = 'your_api_key'\n",
    "\n",
    "# Initialize the API connection\n",
    "ts = TimeSeries(key=API_KEY, output_format='pandas')\n",
    "\n",
    "# Get stock data\n",
    "data, metadata = ts.get_daily(symbol='AAPL', outputsize='compact')\n",
    "print(data)"
   ]
  },
  {
   "cell_type": "code",
   "execution_count": 15,
   "id": "f7ee2beb",
   "metadata": {},
   "outputs": [],
   "source": [
    "import requests\n",
    "from bs4 import BeautifulSoup\n",
    "\n",
    "# Set the URL for MarketAux\n",
    "url = 'https://www.marketaux.com/'\n",
    "\n",
    "try:\n",
    "    # Send a request to the website and parse the HTML content\n",
    "    response = requests.get(url)\n",
    "    response.raise_for_status()  # Raise an error for bad status codes\n",
    "    soup = BeautifulSoup(response.content, 'html.parser')\n",
    "\n",
    "    # Extract financial headlines\n",
    "    headlines = soup.find_all('h2', class_='entry-title')\n",
    "    for headline in headlines:\n",
    "        print(headline.text)\n",
    "        \n",
    "except Exception as e:\n",
    "    print(\"An error occurred:\", e)"
   ]
  },
  {
   "cell_type": "code",
   "execution_count": 15,
   "id": "4f5c87c4",
   "metadata": {},
   "outputs": [
    {
     "name": "stdout",
     "output_type": "stream",
     "text": [
      "{'error': {'code': 'invalid_api_token', 'message': 'An invalid API token was supplied.'}}\n"
     ]
    },
    {
     "ename": "KeyError",
     "evalue": "'data'",
     "output_type": "error",
     "traceback": [
      "\u001b[0;31m---------------------------------------------------------------------------\u001b[0m",
      "\u001b[0;31mKeyError\u001b[0m                                  Traceback (most recent call last)",
      "Cell \u001b[0;32mIn[15], line 37\u001b[0m\n\u001b[1;32m     35\u001b[0m         \u001b[38;5;66;03m# Append the article's title to the list of headlines for this date\u001b[39;00m\n\u001b[1;32m     36\u001b[0m         headlines[date_str]\u001b[38;5;241m.\u001b[39mappend(article[\u001b[38;5;124m'\u001b[39m\u001b[38;5;124mtitle\u001b[39m\u001b[38;5;124m'\u001b[39m])\n\u001b[0;32m---> 37\u001b[0m data \u001b[38;5;241m=\u001b[39m \u001b[43mget_headlines\u001b[49m\u001b[43m(\u001b[49m\u001b[43m)\u001b[49m\n\u001b[1;32m     38\u001b[0m extract_headlines(data)\n",
      "Cell \u001b[0;32mIn[15], line 12\u001b[0m, in \u001b[0;36mget_headlines\u001b[0;34m()\u001b[0m\n\u001b[1;32m     10\u001b[0m news_headlines \u001b[38;5;241m=\u001b[39m response\u001b[38;5;241m.\u001b[39mjson()\n\u001b[1;32m     11\u001b[0m \u001b[38;5;28mprint\u001b[39m(news_headlines)  \u001b[38;5;66;03m# Print the response content\u001b[39;00m\n\u001b[0;32m---> 12\u001b[0m \u001b[38;5;28;01mfor\u001b[39;00m article \u001b[38;5;129;01min\u001b[39;00m \u001b[43mnews_headlines\u001b[49m\u001b[43m[\u001b[49m\u001b[38;5;124;43m'\u001b[39;49m\u001b[38;5;124;43mdata\u001b[39;49m\u001b[38;5;124;43m'\u001b[39;49m\u001b[43m]\u001b[49m:\n\u001b[1;32m     13\u001b[0m     date \u001b[38;5;241m=\u001b[39m article[\u001b[38;5;124m'\u001b[39m\u001b[38;5;124mpublished_at\u001b[39m\u001b[38;5;124m'\u001b[39m]\n\u001b[1;32m     14\u001b[0m     title \u001b[38;5;241m=\u001b[39m article[\u001b[38;5;124m'\u001b[39m\u001b[38;5;124mtitle\u001b[39m\u001b[38;5;124m'\u001b[39m]\n",
      "\u001b[0;31mKeyError\u001b[0m: 'data'"
     ]
    }
   ],
   "source": [
    "import requests\n",
    "from dateutil.parser import parse\n",
    "\n",
    "def get_headlines():\n",
    "    url = \"https://api.marketaux.com/v1/news/all?symbols=^GSPC&filter_entities=true&language=en&api_token=\"\n",
    "    \n",
    "    cleaned_data = []\n",
    "    for _ in range(3):\n",
    "        response = requests.get(url)\n",
    "        news_headlines = response.json()\n",
    "        print(news_headlines)  # Print the response content\n",
    "        for article in news_headlines['data']:\n",
    "            date = article['published_at']\n",
    "            title = article['title']\n",
    "            cleaned_data.append({'date': date, 'headline': title})\n",
    "    \n",
    "    return cleaned_data\n",
    "\n",
    "def extract_headlines(data):\n",
    "    # Initialize an empty dictionary to hold the headlines\n",
    "    headlines = {}\n",
    "    \n",
    "    # Loop through each article in the data file\n",
    "    for article in data['articles']:\n",
    "        # Extract the date from the 'publishedAt' field and convert it to a datetime object\n",
    "        date = parse(article['publishedAt']).date()\n",
    "        \n",
    "        # Convert the date to a string in the format 'YYYY-MM-DD'\n",
    "        date_str = date.strftime('%Y-%m-%d')\n",
    "        \n",
    "        # If the date is not already in the headlines dictionary, add it with an empty list as the value\n",
    "        if date_str not in headlines:\n",
    "            headlines[date_str] = []\n",
    "        \n",
    "        # Append the article's title to the list of headlines for this date\n",
    "        headlines[date_str].append(article['title'])\n",
    "data = get_headlines()\n",
    "extract_headlines(data)"
   ]
  },
  {
   "cell_type": "code",
   "execution_count": null,
   "id": "563fc0e8",
   "metadata": {},
   "outputs": [],
   "source": []
  }
 ],
 "metadata": {
  "kernelspec": {
   "display_name": "Python 3 (ipykernel)",
   "language": "python",
   "name": "python3"
  },
  "language_info": {
   "codemirror_mode": {
    "name": "ipython",
    "version": 3
   },
   "file_extension": ".py",
   "mimetype": "text/x-python",
   "name": "python",
   "nbconvert_exporter": "python",
   "pygments_lexer": "ipython3",
   "version": "3.9.6"
  }
 },
 "nbformat": 4,
 "nbformat_minor": 5
}
